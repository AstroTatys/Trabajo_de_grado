{
  "nbformat": 4,
  "nbformat_minor": 0,
  "metadata": {
    "colab": {
      "provenance": []
    },
    "kernelspec": {
      "name": "python3",
      "display_name": "Python 3"
    },
    "language_info": {
      "name": "python"
    }
  },
  "cells": [
    {
      "cell_type": "code",
      "execution_count": null,
      "metadata": {
        "id": "cuqlqBhTRN0i",
        "colab": {
          "base_uri": "https://localhost:8080/"
        },
        "outputId": "891ff024-4033-4556-e15f-74d4827d2481"
      },
      "outputs": [
        {
          "output_type": "stream",
          "name": "stdout",
          "text": [
            "Populating the interactive namespace from numpy and matplotlib\n"
          ]
        }
      ],
      "source": [
        "#Librerias.\n",
        "import numpy as np\n",
        "import pandas as pd\n",
        "import matplotlib.pyplot as plt\n",
        "%pylab inline"
      ]
    },
    {
      "cell_type": "code",
      "source": [
        "#Escala de longitud\n",
        "h_r = 3"
      ],
      "metadata": {
        "id": "hJvnyZg5ye01"
      },
      "execution_count": null,
      "outputs": []
    },
    {
      "cell_type": "code",
      "source": [
        "#Radios galactocentricos\n",
        "R = np.array([5.0,  5.2,  5.4,  5.6,  5.8,  6.0,  6.2,  6.4,  6.6,  6.8,  7.0, 7.2,  7.4,  7.6,  7.8,  8.0,  8.2,  8.4,  8.6,  8.8,  9.0,  9.2, 9.4,  9.6,  9.8, 10. , 10.2, 10.4, 10.6, 10.8, 11.0, 11.3, 11.75, 12.25, 12.75, 13.25, 13.8, 15.8])"
      ],
      "metadata": {
        "id": "81cwwOf5ySww"
      },
      "execution_count": null,
      "outputs": []
    },
    {
      "cell_type": "code",
      "source": [
        "#Densidad\n",
        "rho = np.exp(-R/h_r)"
      ],
      "metadata": {
        "id": "EuLcd3C5wdrW"
      },
      "execution_count": null,
      "outputs": []
    },
    {
      "cell_type": "code",
      "source": [
        "#Distancia vertical (promedio)\n",
        "z_mean = np.array([-0.234,-0.077,-0.162,-0.069,-0.122,-0.112,-0.125,-0.124,-0.078,-0.036,-0.014,0.007,0.016,0.023,0.007,0.010,-0.010,0.009,-0.011,-0.055,-0.054,-0.044,-0.019,-0.039,-0.049,-0.012,0.007,-0.067,-0.032,-0.031,-0.103,-0.030,0.031,0.061,-0.039,0.001,0.496,0.043])"
      ],
      "metadata": {
        "id": "cgtu1FvK17XU"
      },
      "execution_count": null,
      "outputs": []
    },
    {
      "cell_type": "code",
      "source": [
        "#Velocidad azimutal (promedio)\n",
        "V_phi_mean = np.array([230,233,223,203,220,229,229,234,229,231,228,229,232,233,231,234,231,232,229,226,224,224,224,222,225,228,219,230,234,230,232,227,226,229,227,234,208,220])"
      ],
      "metadata": {
        "id": "GWbRBHei2ISb"
      },
      "execution_count": null,
      "outputs": []
    },
    {
      "cell_type": "code",
      "source": [
        "#Velocidad de dispersión en la coordenada azimutal\n",
        "sigma_vphi = np.array([12,8,12,8,8,3,3,3,2,2,1,1,1,1,2,1,2,1,1,1,2,1,1,2,2,4,6,2,5,6,8,9,6,14,5,10,24,12])"
      ],
      "metadata": {
        "id": "FZ32kJX2sX-q"
      },
      "execution_count": null,
      "outputs": []
    },
    {
      "cell_type": "code",
      "source": [
        "#para crear un data frame\n",
        "df = pd.DataFrame()\n",
        "df['R'] = R\n",
        "df['z_mean'] = z_mean\n",
        "df['V_phi_mean'] = V_phi_mean\n",
        "df['sigma_vphi '] = sigma_vphi \n",
        "df['rho'] = rho"
      ],
      "metadata": {
        "id": "kY8xZid4sbeE"
      },
      "execution_count": null,
      "outputs": []
    },
    {
      "cell_type": "code",
      "source": [
        "df"
      ],
      "metadata": {
        "colab": {
          "base_uri": "https://localhost:8080/",
          "height": 1000
        },
        "id": "ojDUQ-HPt7mL",
        "outputId": "6771a3ba-a9c8-4017-b833-9cbb994d53b6"
      },
      "execution_count": null,
      "outputs": [
        {
          "output_type": "execute_result",
          "data": {
            "text/plain": [
              "        R  z_mean  V_phi_mean  sigma_vphi        rho\n",
              "0    5.00  -0.234         230           12  0.188876\n",
              "1    5.20  -0.077         233            8  0.176694\n",
              "2    5.40  -0.162         223           12  0.165299\n",
              "3    5.60  -0.069         203            8  0.154638\n",
              "4    5.80  -0.122         220            8  0.144665\n",
              "5    6.00  -0.112         229            3  0.135335\n",
              "6    6.20  -0.125         229            3  0.126607\n",
              "7    6.40  -0.124         234            3  0.118442\n",
              "8    6.60  -0.078         229            2  0.110803\n",
              "9    6.80  -0.036         231            2  0.103657\n",
              "10   7.00  -0.014         228            1  0.096972\n",
              "11   7.20   0.007         229            1  0.090718\n",
              "12   7.40   0.016         232            1  0.084867\n",
              "13   7.60   0.023         233            1  0.079394\n",
              "14   7.80   0.007         231            2  0.074274\n",
              "15   8.00   0.010         234            1  0.069483\n",
              "16   8.20  -0.010         231            2  0.065002\n",
              "17   8.40   0.009         232            1  0.060810\n",
              "18   8.60  -0.011         229            1  0.056888\n",
              "19   8.80  -0.055         226            1  0.053219\n",
              "20   9.00  -0.054         224            2  0.049787\n",
              "21   9.20  -0.044         224            1  0.046576\n",
              "22   9.40  -0.019         224            1  0.043572\n",
              "23   9.60  -0.039         222            2  0.040762\n",
              "24   9.80  -0.049         225            2  0.038133\n",
              "25  10.00  -0.012         228            4  0.035674\n",
              "26  10.20   0.007         219            6  0.033373\n",
              "27  10.40  -0.067         230            2  0.031221\n",
              "28  10.60  -0.032         234            5  0.029207\n",
              "29  10.80  -0.031         230            6  0.027324\n",
              "30  11.00  -0.103         232            8  0.025562\n",
              "31  11.30  -0.030         227            9  0.023129\n",
              "32  11.75   0.031         226            6  0.019907\n",
              "33  12.25   0.061         229           14  0.016851\n",
              "34  12.75  -0.039         227            5  0.014264\n",
              "35  13.25   0.001         234           10  0.012074\n",
              "36  13.80   0.496         208           24  0.010052\n",
              "37  15.80   0.043         220           12  0.005161"
            ],
            "text/html": [
              "\n",
              "  <div id=\"df-d201f6d7-228a-4417-8dde-49c023c11907\">\n",
              "    <div class=\"colab-df-container\">\n",
              "      <div>\n",
              "<style scoped>\n",
              "    .dataframe tbody tr th:only-of-type {\n",
              "        vertical-align: middle;\n",
              "    }\n",
              "\n",
              "    .dataframe tbody tr th {\n",
              "        vertical-align: top;\n",
              "    }\n",
              "\n",
              "    .dataframe thead th {\n",
              "        text-align: right;\n",
              "    }\n",
              "</style>\n",
              "<table border=\"1\" class=\"dataframe\">\n",
              "  <thead>\n",
              "    <tr style=\"text-align: right;\">\n",
              "      <th></th>\n",
              "      <th>R</th>\n",
              "      <th>z_mean</th>\n",
              "      <th>V_phi_mean</th>\n",
              "      <th>sigma_vphi</th>\n",
              "      <th>rho</th>\n",
              "    </tr>\n",
              "  </thead>\n",
              "  <tbody>\n",
              "    <tr>\n",
              "      <th>0</th>\n",
              "      <td>5.00</td>\n",
              "      <td>-0.234</td>\n",
              "      <td>230</td>\n",
              "      <td>12</td>\n",
              "      <td>0.188876</td>\n",
              "    </tr>\n",
              "    <tr>\n",
              "      <th>1</th>\n",
              "      <td>5.20</td>\n",
              "      <td>-0.077</td>\n",
              "      <td>233</td>\n",
              "      <td>8</td>\n",
              "      <td>0.176694</td>\n",
              "    </tr>\n",
              "    <tr>\n",
              "      <th>2</th>\n",
              "      <td>5.40</td>\n",
              "      <td>-0.162</td>\n",
              "      <td>223</td>\n",
              "      <td>12</td>\n",
              "      <td>0.165299</td>\n",
              "    </tr>\n",
              "    <tr>\n",
              "      <th>3</th>\n",
              "      <td>5.60</td>\n",
              "      <td>-0.069</td>\n",
              "      <td>203</td>\n",
              "      <td>8</td>\n",
              "      <td>0.154638</td>\n",
              "    </tr>\n",
              "    <tr>\n",
              "      <th>4</th>\n",
              "      <td>5.80</td>\n",
              "      <td>-0.122</td>\n",
              "      <td>220</td>\n",
              "      <td>8</td>\n",
              "      <td>0.144665</td>\n",
              "    </tr>\n",
              "    <tr>\n",
              "      <th>5</th>\n",
              "      <td>6.00</td>\n",
              "      <td>-0.112</td>\n",
              "      <td>229</td>\n",
              "      <td>3</td>\n",
              "      <td>0.135335</td>\n",
              "    </tr>\n",
              "    <tr>\n",
              "      <th>6</th>\n",
              "      <td>6.20</td>\n",
              "      <td>-0.125</td>\n",
              "      <td>229</td>\n",
              "      <td>3</td>\n",
              "      <td>0.126607</td>\n",
              "    </tr>\n",
              "    <tr>\n",
              "      <th>7</th>\n",
              "      <td>6.40</td>\n",
              "      <td>-0.124</td>\n",
              "      <td>234</td>\n",
              "      <td>3</td>\n",
              "      <td>0.118442</td>\n",
              "    </tr>\n",
              "    <tr>\n",
              "      <th>8</th>\n",
              "      <td>6.60</td>\n",
              "      <td>-0.078</td>\n",
              "      <td>229</td>\n",
              "      <td>2</td>\n",
              "      <td>0.110803</td>\n",
              "    </tr>\n",
              "    <tr>\n",
              "      <th>9</th>\n",
              "      <td>6.80</td>\n",
              "      <td>-0.036</td>\n",
              "      <td>231</td>\n",
              "      <td>2</td>\n",
              "      <td>0.103657</td>\n",
              "    </tr>\n",
              "    <tr>\n",
              "      <th>10</th>\n",
              "      <td>7.00</td>\n",
              "      <td>-0.014</td>\n",
              "      <td>228</td>\n",
              "      <td>1</td>\n",
              "      <td>0.096972</td>\n",
              "    </tr>\n",
              "    <tr>\n",
              "      <th>11</th>\n",
              "      <td>7.20</td>\n",
              "      <td>0.007</td>\n",
              "      <td>229</td>\n",
              "      <td>1</td>\n",
              "      <td>0.090718</td>\n",
              "    </tr>\n",
              "    <tr>\n",
              "      <th>12</th>\n",
              "      <td>7.40</td>\n",
              "      <td>0.016</td>\n",
              "      <td>232</td>\n",
              "      <td>1</td>\n",
              "      <td>0.084867</td>\n",
              "    </tr>\n",
              "    <tr>\n",
              "      <th>13</th>\n",
              "      <td>7.60</td>\n",
              "      <td>0.023</td>\n",
              "      <td>233</td>\n",
              "      <td>1</td>\n",
              "      <td>0.079394</td>\n",
              "    </tr>\n",
              "    <tr>\n",
              "      <th>14</th>\n",
              "      <td>7.80</td>\n",
              "      <td>0.007</td>\n",
              "      <td>231</td>\n",
              "      <td>2</td>\n",
              "      <td>0.074274</td>\n",
              "    </tr>\n",
              "    <tr>\n",
              "      <th>15</th>\n",
              "      <td>8.00</td>\n",
              "      <td>0.010</td>\n",
              "      <td>234</td>\n",
              "      <td>1</td>\n",
              "      <td>0.069483</td>\n",
              "    </tr>\n",
              "    <tr>\n",
              "      <th>16</th>\n",
              "      <td>8.20</td>\n",
              "      <td>-0.010</td>\n",
              "      <td>231</td>\n",
              "      <td>2</td>\n",
              "      <td>0.065002</td>\n",
              "    </tr>\n",
              "    <tr>\n",
              "      <th>17</th>\n",
              "      <td>8.40</td>\n",
              "      <td>0.009</td>\n",
              "      <td>232</td>\n",
              "      <td>1</td>\n",
              "      <td>0.060810</td>\n",
              "    </tr>\n",
              "    <tr>\n",
              "      <th>18</th>\n",
              "      <td>8.60</td>\n",
              "      <td>-0.011</td>\n",
              "      <td>229</td>\n",
              "      <td>1</td>\n",
              "      <td>0.056888</td>\n",
              "    </tr>\n",
              "    <tr>\n",
              "      <th>19</th>\n",
              "      <td>8.80</td>\n",
              "      <td>-0.055</td>\n",
              "      <td>226</td>\n",
              "      <td>1</td>\n",
              "      <td>0.053219</td>\n",
              "    </tr>\n",
              "    <tr>\n",
              "      <th>20</th>\n",
              "      <td>9.00</td>\n",
              "      <td>-0.054</td>\n",
              "      <td>224</td>\n",
              "      <td>2</td>\n",
              "      <td>0.049787</td>\n",
              "    </tr>\n",
              "    <tr>\n",
              "      <th>21</th>\n",
              "      <td>9.20</td>\n",
              "      <td>-0.044</td>\n",
              "      <td>224</td>\n",
              "      <td>1</td>\n",
              "      <td>0.046576</td>\n",
              "    </tr>\n",
              "    <tr>\n",
              "      <th>22</th>\n",
              "      <td>9.40</td>\n",
              "      <td>-0.019</td>\n",
              "      <td>224</td>\n",
              "      <td>1</td>\n",
              "      <td>0.043572</td>\n",
              "    </tr>\n",
              "    <tr>\n",
              "      <th>23</th>\n",
              "      <td>9.60</td>\n",
              "      <td>-0.039</td>\n",
              "      <td>222</td>\n",
              "      <td>2</td>\n",
              "      <td>0.040762</td>\n",
              "    </tr>\n",
              "    <tr>\n",
              "      <th>24</th>\n",
              "      <td>9.80</td>\n",
              "      <td>-0.049</td>\n",
              "      <td>225</td>\n",
              "      <td>2</td>\n",
              "      <td>0.038133</td>\n",
              "    </tr>\n",
              "    <tr>\n",
              "      <th>25</th>\n",
              "      <td>10.00</td>\n",
              "      <td>-0.012</td>\n",
              "      <td>228</td>\n",
              "      <td>4</td>\n",
              "      <td>0.035674</td>\n",
              "    </tr>\n",
              "    <tr>\n",
              "      <th>26</th>\n",
              "      <td>10.20</td>\n",
              "      <td>0.007</td>\n",
              "      <td>219</td>\n",
              "      <td>6</td>\n",
              "      <td>0.033373</td>\n",
              "    </tr>\n",
              "    <tr>\n",
              "      <th>27</th>\n",
              "      <td>10.40</td>\n",
              "      <td>-0.067</td>\n",
              "      <td>230</td>\n",
              "      <td>2</td>\n",
              "      <td>0.031221</td>\n",
              "    </tr>\n",
              "    <tr>\n",
              "      <th>28</th>\n",
              "      <td>10.60</td>\n",
              "      <td>-0.032</td>\n",
              "      <td>234</td>\n",
              "      <td>5</td>\n",
              "      <td>0.029207</td>\n",
              "    </tr>\n",
              "    <tr>\n",
              "      <th>29</th>\n",
              "      <td>10.80</td>\n",
              "      <td>-0.031</td>\n",
              "      <td>230</td>\n",
              "      <td>6</td>\n",
              "      <td>0.027324</td>\n",
              "    </tr>\n",
              "    <tr>\n",
              "      <th>30</th>\n",
              "      <td>11.00</td>\n",
              "      <td>-0.103</td>\n",
              "      <td>232</td>\n",
              "      <td>8</td>\n",
              "      <td>0.025562</td>\n",
              "    </tr>\n",
              "    <tr>\n",
              "      <th>31</th>\n",
              "      <td>11.30</td>\n",
              "      <td>-0.030</td>\n",
              "      <td>227</td>\n",
              "      <td>9</td>\n",
              "      <td>0.023129</td>\n",
              "    </tr>\n",
              "    <tr>\n",
              "      <th>32</th>\n",
              "      <td>11.75</td>\n",
              "      <td>0.031</td>\n",
              "      <td>226</td>\n",
              "      <td>6</td>\n",
              "      <td>0.019907</td>\n",
              "    </tr>\n",
              "    <tr>\n",
              "      <th>33</th>\n",
              "      <td>12.25</td>\n",
              "      <td>0.061</td>\n",
              "      <td>229</td>\n",
              "      <td>14</td>\n",
              "      <td>0.016851</td>\n",
              "    </tr>\n",
              "    <tr>\n",
              "      <th>34</th>\n",
              "      <td>12.75</td>\n",
              "      <td>-0.039</td>\n",
              "      <td>227</td>\n",
              "      <td>5</td>\n",
              "      <td>0.014264</td>\n",
              "    </tr>\n",
              "    <tr>\n",
              "      <th>35</th>\n",
              "      <td>13.25</td>\n",
              "      <td>0.001</td>\n",
              "      <td>234</td>\n",
              "      <td>10</td>\n",
              "      <td>0.012074</td>\n",
              "    </tr>\n",
              "    <tr>\n",
              "      <th>36</th>\n",
              "      <td>13.80</td>\n",
              "      <td>0.496</td>\n",
              "      <td>208</td>\n",
              "      <td>24</td>\n",
              "      <td>0.010052</td>\n",
              "    </tr>\n",
              "    <tr>\n",
              "      <th>37</th>\n",
              "      <td>15.80</td>\n",
              "      <td>0.043</td>\n",
              "      <td>220</td>\n",
              "      <td>12</td>\n",
              "      <td>0.005161</td>\n",
              "    </tr>\n",
              "  </tbody>\n",
              "</table>\n",
              "</div>\n",
              "      <button class=\"colab-df-convert\" onclick=\"convertToInteractive('df-d201f6d7-228a-4417-8dde-49c023c11907')\"\n",
              "              title=\"Convert this dataframe to an interactive table.\"\n",
              "              style=\"display:none;\">\n",
              "        \n",
              "  <svg xmlns=\"http://www.w3.org/2000/svg\" height=\"24px\"viewBox=\"0 0 24 24\"\n",
              "       width=\"24px\">\n",
              "    <path d=\"M0 0h24v24H0V0z\" fill=\"none\"/>\n",
              "    <path d=\"M18.56 5.44l.94 2.06.94-2.06 2.06-.94-2.06-.94-.94-2.06-.94 2.06-2.06.94zm-11 1L8.5 8.5l.94-2.06 2.06-.94-2.06-.94L8.5 2.5l-.94 2.06-2.06.94zm10 10l.94 2.06.94-2.06 2.06-.94-2.06-.94-.94-2.06-.94 2.06-2.06.94z\"/><path d=\"M17.41 7.96l-1.37-1.37c-.4-.4-.92-.59-1.43-.59-.52 0-1.04.2-1.43.59L10.3 9.45l-7.72 7.72c-.78.78-.78 2.05 0 2.83L4 21.41c.39.39.9.59 1.41.59.51 0 1.02-.2 1.41-.59l7.78-7.78 2.81-2.81c.8-.78.8-2.07 0-2.86zM5.41 20L4 18.59l7.72-7.72 1.47 1.35L5.41 20z\"/>\n",
              "  </svg>\n",
              "      </button>\n",
              "      \n",
              "  <style>\n",
              "    .colab-df-container {\n",
              "      display:flex;\n",
              "      flex-wrap:wrap;\n",
              "      gap: 12px;\n",
              "    }\n",
              "\n",
              "    .colab-df-convert {\n",
              "      background-color: #E8F0FE;\n",
              "      border: none;\n",
              "      border-radius: 50%;\n",
              "      cursor: pointer;\n",
              "      display: none;\n",
              "      fill: #1967D2;\n",
              "      height: 32px;\n",
              "      padding: 0 0 0 0;\n",
              "      width: 32px;\n",
              "    }\n",
              "\n",
              "    .colab-df-convert:hover {\n",
              "      background-color: #E2EBFA;\n",
              "      box-shadow: 0px 1px 2px rgba(60, 64, 67, 0.3), 0px 1px 3px 1px rgba(60, 64, 67, 0.15);\n",
              "      fill: #174EA6;\n",
              "    }\n",
              "\n",
              "    [theme=dark] .colab-df-convert {\n",
              "      background-color: #3B4455;\n",
              "      fill: #D2E3FC;\n",
              "    }\n",
              "\n",
              "    [theme=dark] .colab-df-convert:hover {\n",
              "      background-color: #434B5C;\n",
              "      box-shadow: 0px 1px 3px 1px rgba(0, 0, 0, 0.15);\n",
              "      filter: drop-shadow(0px 1px 2px rgba(0, 0, 0, 0.3));\n",
              "      fill: #FFFFFF;\n",
              "    }\n",
              "  </style>\n",
              "\n",
              "      <script>\n",
              "        const buttonEl =\n",
              "          document.querySelector('#df-d201f6d7-228a-4417-8dde-49c023c11907 button.colab-df-convert');\n",
              "        buttonEl.style.display =\n",
              "          google.colab.kernel.accessAllowed ? 'block' : 'none';\n",
              "\n",
              "        async function convertToInteractive(key) {\n",
              "          const element = document.querySelector('#df-d201f6d7-228a-4417-8dde-49c023c11907');\n",
              "          const dataTable =\n",
              "            await google.colab.kernel.invokeFunction('convertToInteractive',\n",
              "                                                     [key], {});\n",
              "          if (!dataTable) return;\n",
              "\n",
              "          const docLinkHtml = 'Like what you see? Visit the ' +\n",
              "            '<a target=\"_blank\" href=https://colab.research.google.com/notebooks/data_table.ipynb>data table notebook</a>'\n",
              "            + ' to learn more about interactive tables.';\n",
              "          element.innerHTML = '';\n",
              "          dataTable['output_type'] = 'display_data';\n",
              "          await google.colab.output.renderOutput(dataTable, element);\n",
              "          const docLink = document.createElement('div');\n",
              "          docLink.innerHTML = docLinkHtml;\n",
              "          element.appendChild(docLink);\n",
              "        }\n",
              "      </script>\n",
              "    </div>\n",
              "  </div>\n",
              "  "
            ]
          },
          "metadata": {},
          "execution_count": 9
        }
      ]
    },
    {
      "cell_type": "markdown",
      "source": [
        "Ecuación de la velocidad circular: \\\\\n",
        "\n",
        "$v_{c}^{2} (R) = <V_{\\phi}^{2}> - <V_{R}^{2}> (1+\\frac{\\partial ln\\rho}{\\partial lnR} + \\frac{\\partial ln <V_{R}^{2}>}{\\partial ln R})$\n"
      ],
      "metadata": {
        "id": "bDzD7VHcZEHc"
      }
    },
    {
      "cell_type": "code",
      "source": [
        "#Velocidad radial \n",
        "VR = 0 #segun el articulo \n",
        "\n",
        "#Derivada parcial de ln rho respecto a R\n",
        "p1 = (np.diff(np.log(df.rho))/np.diff(df.R))\n",
        "\n",
        "#Como al realizar la derivada pierde un valor, se le agrega 0 para que quede de la misma dimensión y se pueda operar con los demas datos\n",
        "P1 = np.append(0,p1)\n",
        "\n",
        "#Calculo de la velocidad circular\n",
        "v_c = np.sqrt(df.V_phi_mean**2 - VR**2*(1+P1))\n",
        "max(v_c)"
      ],
      "metadata": {
        "colab": {
          "base_uri": "https://localhost:8080/"
        },
        "id": "S8VER1RFYsm-",
        "outputId": "897495e8-e3e5-4ddc-c0af-a990f1d9391d"
      },
      "execution_count": null,
      "outputs": [
        {
          "output_type": "execute_result",
          "data": {
            "text/plain": [
              "234.0"
            ]
          },
          "metadata": {},
          "execution_count": 10
        }
      ]
    },
    {
      "cell_type": "code",
      "source": [
        "#Grafica de los valores de radio y velocidad circular\n",
        "figure(figsize=(12,8))\n",
        "plt.plot(R,v_c,'*',color='black', label=\"Datos\")\n",
        "plt.errorbar(R,v_c,yerr=sigma_vphi, linestyle='None', fmt = 'black', ms=8)\n",
        "plt.xlabel(\"R [kpc]\")\n",
        "plt.ylabel(\"Vc [km/s]\")\n",
        "plt.title(\"Curva de rotación de la Vía Láctea\")\n",
        "#plt.grid()\n",
        "plt.xlim(0.0,20.0)\n",
        "plt.ylim(0,400)\n",
        "plt.legend(loc = 1)\n",
        "plt.savefig(\"curva_datos.png\")"
      ],
      "metadata": {
        "colab": {
          "base_uri": "https://localhost:8080/",
          "height": 513
        },
        "id": "Ygjh7GGOXNNZ",
        "outputId": "ff8da403-8bfe-4c4a-acb8-e7d2e8f0d975"
      },
      "execution_count": null,
      "outputs": [
        {
          "output_type": "display_data",
          "data": {
            "text/plain": [
              "<Figure size 864x576 with 1 Axes>"
            ],
            "image/png": "[encoded data removed]"
          },
          "metadata": {
            "needs_background": "light"
          }
        }
      ]
    },
    {
      "cell_type": "code",
      "source": [
        "Z = mean(z_mean)\n",
        "Z"
      ],
      "metadata": {
        "colab": {
          "base_uri": "https://localhost:8080/"
        },
        "id": "ZMyVzezZAdES",
        "outputId": "66c8a6bd-c2bf-41af-eda3-82f5ac504b51"
      },
      "execution_count": null,
      "outputs": [
        {
          "output_type": "execute_result",
          "data": {
            "text/plain": [
              "-0.02728947368421053"
            ]
          },
          "metadata": {},
          "execution_count": 12
        }
      ]
    },
    {
      "cell_type": "markdown",
      "source": [
        "AJUSTES TEORICOS A LA CURVA DE ROTACIÓN"
      ],
      "metadata": {
        "id": "UPDySFxVbd3E"
      }
    },
    {
      "cell_type": "code",
      "source": [
        "#Constante Gravitacional.\n",
        "global G\n",
        "G = 6.67384E-11*1.9891E30*(1.0001044887813144157/3.086e19)**3 #[kpc^3/(Msun*s^3)]\n",
        "G"
      ],
      "metadata": {
        "colab": {
          "base_uri": "https://localhost:8080/"
        },
        "id": "DRXO9hP0neor",
        "outputId": "a75a36a0-a0c4-453d-aa05-1e2160d5cb1d"
      },
      "execution_count": null,
      "outputs": [
        {
          "output_type": "execute_result",
          "data": {
            "text/plain": [
              "4.518359396955841e-39"
            ]
          },
          "metadata": {},
          "execution_count": 13
        }
      ]
    },
    {
      "cell_type": "markdown",
      "source": [
        "PARA EL BULBO \\\\\n",
        "Perfil de Plummer $\\rho _{b}(r) = \\frac{3b_{b}^{2}M_{b}}{4\\pi (r^{2}+b_{b}^{2})^{5/2}}$\n",
        "\n",
        "donde $r = \\sqrt{R^2+z^2}$, con $b_{b} = 0.3$ kpc y $M_{b}$ la masa total del bulbo. \\\\\n",
        "\n",
        "\n",
        "$V_{c} = \\sqrt{\\frac{GMr^2}{(r^2+b_{b}^2)^{3/2}}}$\n"
      ],
      "metadata": {
        "id": "plvcFVzChqXt"
      }
    },
    {
      "cell_type": "code",
      "source": [
        "R_bteorico = np.arange(0,20.2,0.2)\n",
        "R_bteorico"
      ],
      "metadata": {
        "colab": {
          "base_uri": "https://localhost:8080/"
        },
        "id": "ZYQ793ea-6dl",
        "outputId": "72b45ad4-22b3-473e-9ac3-93638b5baef9"
      },
      "execution_count": null,
      "outputs": [
        {
          "output_type": "execute_result",
          "data": {
            "text/plain": [
              "array([ 0. ,  0.2,  0.4,  0.6,  0.8,  1. ,  1.2,  1.4,  1.6,  1.8,  2. ,\n",
              "        2.2,  2.4,  2.6,  2.8,  3. ,  3.2,  3.4,  3.6,  3.8,  4. ,  4.2,\n",
              "        4.4,  4.6,  4.8,  5. ,  5.2,  5.4,  5.6,  5.8,  6. ,  6.2,  6.4,\n",
              "        6.6,  6.8,  7. ,  7.2,  7.4,  7.6,  7.8,  8. ,  8.2,  8.4,  8.6,\n",
              "        8.8,  9. ,  9.2,  9.4,  9.6,  9.8, 10. , 10.2, 10.4, 10.6, 10.8,\n",
              "       11. , 11.2, 11.4, 11.6, 11.8, 12. , 12.2, 12.4, 12.6, 12.8, 13. ,\n",
              "       13.2, 13.4, 13.6, 13.8, 14. , 14.2, 14.4, 14.6, 14.8, 15. , 15.2,\n",
              "       15.4, 15.6, 15.8, 16. , 16.2, 16.4, 16.6, 16.8, 17. , 17.2, 17.4,\n",
              "       17.6, 17.8, 18. , 18.2, 18.4, 18.6, 18.8, 19. , 19.2, 19.4, 19.6,\n",
              "       19.8, 20. ])"
            ]
          },
          "metadata": {},
          "execution_count": 14
        }
      ]
    },
    {
      "cell_type": "code",
      "source": [
        "#Definimos\n",
        "b_b = 0.3 #Radio de Plummer [kpc]\n",
        "r = np.sqrt(R_bteorico**2 + Z**2) #Radio esferico del bulbo\n",
        "M_b = 460.0*2.32e7 #Pouliasis E., Di Matte P., Haywood"
      ],
      "metadata": {
        "id": "zbPadK1GrNZJ"
      },
      "execution_count": null,
      "outputs": []
    },
    {
      "cell_type": "code",
      "source": [
        "#Densidad del bulbo\n",
        "rho_b = (3 * b_b**2 * M_b) / (4*np.pi*(r**2 + b_b**2)**(5/2))"
      ],
      "metadata": {
        "id": "PQF2HMMHrE3g"
      },
      "execution_count": null,
      "outputs": []
    },
    {
      "cell_type": "code",
      "source": [
        "#Para encontrar la masa del bulbo por medio del perfil de Plummer\n",
        "M_p=(M_b*r**3)/(b_b**2+r**2)**(3/2)\n",
        "M_p"
      ],
      "metadata": {
        "colab": {
          "base_uri": "https://localhost:8080/"
        },
        "id": "jBTfYy1o_EJW",
        "outputId": "a269623e-2deb-46cf-819e-f38fdf669183"
      },
      "execution_count": null,
      "outputs": [
        {
          "output_type": "execute_result",
          "data": {
            "text/plain": [
              "array([7.93412945e+06, 1.85659225e+09, 5.47776239e+09, 7.64099328e+09,\n",
              "       8.76243564e+09, 9.37877460e+09, 9.74478398e+09, 9.97723025e+09,\n",
              "       1.01331247e+10, 1.02423834e+10, 1.03217541e+10, 1.03811463e+10,\n",
              "       1.04267038e+10, 1.04623910e+10, 1.04908537e+10, 1.05139108e+10,\n",
              "       1.05328447e+10, 1.05485801e+10, 1.05617968e+10, 1.05730039e+10,\n",
              "       1.05825881e+10, 1.05908477e+10, 1.05980156e+10, 1.06042756e+10,\n",
              "       1.06097747e+10, 1.06146311e+10, 1.06189412e+10, 1.06227838e+10,\n",
              "       1.06262240e+10, 1.06293161e+10, 1.06321055e+10, 1.06346304e+10,\n",
              "       1.06369232e+10, 1.06390114e+10, 1.06409187e+10, 1.06426654e+10,\n",
              "       1.06442689e+10, 1.06457446e+10, 1.06471056e+10, 1.06483635e+10,\n",
              "       1.06495285e+10, 1.06506095e+10, 1.06516144e+10, 1.06525501e+10,\n",
              "       1.06534228e+10, 1.06542382e+10, 1.06550010e+10, 1.06557158e+10,\n",
              "       1.06563864e+10, 1.06570164e+10, 1.06576091e+10, 1.06581673e+10,\n",
              "       1.06586937e+10, 1.06591906e+10, 1.06596601e+10, 1.06601044e+10,\n",
              "       1.06605250e+10, 1.06609238e+10, 1.06613021e+10, 1.06616614e+10,\n",
              "       1.06620029e+10, 1.06623277e+10, 1.06626370e+10, 1.06629316e+10,\n",
              "       1.06632126e+10, 1.06634807e+10, 1.06637368e+10, 1.06639814e+10,\n",
              "       1.06642154e+10, 1.06644393e+10, 1.06646536e+10, 1.06648590e+10,\n",
              "       1.06650559e+10, 1.06652447e+10, 1.06654260e+10, 1.06656000e+10,\n",
              "       1.06657673e+10, 1.06659280e+10, 1.06660826e+10, 1.06662314e+10,\n",
              "       1.06663747e+10, 1.06665127e+10, 1.06666456e+10, 1.06667738e+10,\n",
              "       1.06668975e+10, 1.06670168e+10, 1.06671319e+10, 1.06672432e+10,\n",
              "       1.06673506e+10, 1.06674545e+10, 1.06675549e+10, 1.06676520e+10,\n",
              "       1.06677460e+10, 1.06678370e+10, 1.06679250e+10, 1.06680103e+10,\n",
              "       1.06680930e+10, 1.06681731e+10, 1.06682508e+10, 1.06683261e+10,\n",
              "       1.06683992e+10])"
            ]
          },
          "metadata": {},
          "execution_count": 17
        }
      ]
    },
    {
      "cell_type": "code",
      "source": [
        "#Velocidad circular\n",
        "vc_b = np.sqrt((G*M_p*r**2)/((r**2+b_b**2)**(3/2)))"
      ],
      "metadata": {
        "id": "AoXla4CwsaWM"
      },
      "execution_count": null,
      "outputs": []
    },
    {
      "cell_type": "code",
      "source": [
        "#Grafica.\n",
        "figure(figsize=(12,8))\n",
        "plt.plot(R,v_c,'*',color='black', label=\"Datos\")\n",
        "plt.errorbar(R,v_c,yerr=sigma_vphi, linestyle='None', fmt = 'black', ms=8)\n",
        "plt.plot(R_bteorico,vc_b*(3.086e16/1.0001044887813144157),'.', color=\"red\", label=\"Bulbo\")\n",
        "plt.title(\"Curva de rotación del Bulbo\")\n",
        "plt.xlabel(\"R [kpc]\")\n",
        "plt.ylabel(\"Vc [km/s]\")\n",
        "plt.xlim(0,20)\n",
        "plt.ylim(0,400)\n",
        "plt.legend(loc = 1)\n",
        "plt.savefig(\"bulge_curve.png\")"
      ],
      "metadata": {
        "colab": {
          "base_uri": "https://localhost:8080/",
          "height": 513
        },
        "id": "Goo1ZDATtRHZ",
        "outputId": "adc60219-9dee-46aa-a101-a4d892d3d36a"
      },
      "execution_count": null,
      "outputs": [
        {
          "output_type": "display_data",
          "data": {
            "text/plain": [
              "<Figure size 864x576 with 1 Axes>"
            ],
            "image/png": "[encoded data removed]"
          },
          "metadata": {
            "needs_background": "light"
          }
        }
      ]
    },
    {
      "cell_type": "markdown",
      "source": [
        "PARA EL DISCO: \\\\\n",
        "\n",
        "Perfil de Miyamoto-Nagai \\\\\n",
        "$\\rho_{d}(R,z) = \\frac{M_{b}b_{b}^{2}}{4\\pi} \\frac{[a_{d}R^2+(a_{d}+3 \\sqrt{z^2+b_{d}^2})(a_{d}+\\sqrt{z^2+b_{d}^2})^2]}{[R^2(a_{d}+\\sqrt{z^2+b_{d}^2})^2]^{5/2}(z^2+b_{d}^2)^{3/2}}$"
      ],
      "metadata": {
        "id": "tSnhdQkVDvnY"
      }
    },
    {
      "cell_type": "code",
      "source": [
        "#Definimos \n",
        "\n",
        "#Masa total del disco delgado \n",
        "Mdel = 1700*2.32e7 #Pouliasis E., Di Matte P., Haywood M., 2017, A&A, 598, A66\n",
        "\n",
        "#Masa total del disco grueso\n",
        "Mgru = 1700*2.32e7 #Pouliasis E., Di Matte P., Haywood M., 2017, A&A, 598, A66\n",
        "\n",
        "#Escala de longitud disco delgado\n",
        "#a_del = 0.35 #[kpc] Carroll\n",
        "a_del = 5.3 #Pouliasis E., Di Matte P., Haywood M., 2017, A&A, 598, A66\n",
        "\n",
        "#Escala de longitud disco grueso\n",
        "#a_gru = 1 #[kpc] Carroll\n",
        "a_gru = 2.6 #Pouliasis E., Di Matte P., Haywood M., 2017, A&A, 598, A66\n",
        "\n",
        "#Escala de altura disco delgado\n",
        "b_td = 0.25 #[kpc] Pouliasis E., Di Matte P., Haywood M., 2017, A&A, 598, A66\n",
        "\n",
        "#Escala de altura  disco grueso\n",
        "b_Td = 0.8 #[kpc] Pouliasis E., Di Matte P., Haywood M., 2017, A&A, 598, A66\n",
        "\n",
        "#z disco delgado\n",
        "z_del = 0.2 #[kpc] Pouliasis E., Di Matte P., Haywood M., 2017, A&A, 598, A66\n",
        "\n",
        "#z disco grueso\n",
        "z_gru = 0.7 #[kpc] Pouliasis E., Di Matte P., Haywood M., 2017, A&A, 598, A66"
      ],
      "metadata": {
        "id": "Ps0btQTEFkiq"
      },
      "execution_count": null,
      "outputs": []
    },
    {
      "cell_type": "code",
      "source": [
        "Mdel"
      ],
      "metadata": {
        "colab": {
          "base_uri": "https://localhost:8080/"
        },
        "id": "s2NFir6uEWjL",
        "outputId": "5afb0acd-1ed1-4657-b85b-e11c70b13d34"
      },
      "execution_count": null,
      "outputs": [
        {
          "output_type": "execute_result",
          "data": {
            "text/plain": [
              "39440000000.0"
            ]
          },
          "metadata": {},
          "execution_count": 21
        }
      ]
    },
    {
      "cell_type": "code",
      "source": [
        "f = 0.05"
      ],
      "metadata": {
        "id": "TZNXnLlRHPgY"
      },
      "execution_count": null,
      "outputs": []
    },
    {
      "cell_type": "code",
      "source": [
        "#Densidad disco delgado\n",
        "rho_del = ((Mdel*b_td**2)/(4*np.pi))*((a_del*R**2+(a_del+3*np.sqrt(z_del**2+b_td**2)*(a_del+np.sqrt(z_del**2+b_td**2)**2))))/((R**2*(a_del+np.sqrt(z_del**2+b_td**2)**2))**(5/2)*(z_del**2+b_td**2)**(3/2))"
      ],
      "metadata": {
        "id": "YTLk86ZHf2ru"
      },
      "execution_count": null,
      "outputs": []
    },
    {
      "cell_type": "code",
      "source": [
        "#Velocidad circular para el disco delgado\n",
        "vc_del = R_bteorico*(np.sqrt((G*Mdel*f)/(R_bteorico**2+(a_del+b_td**2)**(3/2))))\n",
        "vc_del"
      ],
      "metadata": {
        "id": "XJd-blYeikpW",
        "colab": {
          "base_uri": "https://localhost:8080/"
        },
        "outputId": "ad69a1d5-b90a-4424-fc01-79b129b89932"
      },
      "execution_count": null,
      "outputs": [
        {
          "output_type": "execute_result",
          "data": {
            "text/plain": [
              "array([0.00000000e+00, 1.69141439e-16, 3.36665320e-16, 5.01030298e-16,\n",
              "       6.60839248e-16, 8.14892406e-16, 9.62221644e-16, 1.10210491e-15,\n",
              "       1.23406263e-15, 1.35783963e-15, 1.47337730e-15, 1.58078039e-15,\n",
              "       1.68028238e-15, 1.77221235e-15, 1.85696536e-15, 1.93497715e-15,\n",
              "       2.00670358e-15, 2.07260462e-15, 2.13313242e-15, 2.18872281e-15,\n",
              "       2.23978963e-15, 2.28672129e-15, 2.32987904e-15, 2.36959645e-15,\n",
              "       2.40617984e-15, 2.43990927e-15, 2.47103992e-15, 2.49980371e-15,\n",
              "       2.52641103e-15, 2.55105247e-15, 2.57390052e-15, 2.59511123e-15,\n",
              "       2.61482572e-15, 2.63317162e-15, 2.65026440e-15, 2.66620855e-15,\n",
              "       2.68109871e-15, 2.69502061e-15, 2.70805202e-15, 2.72026350e-15,\n",
              "       2.73171918e-15, 2.74247735e-15, 2.75259108e-15, 2.76210873e-15,\n",
              "       2.77107441e-15, 2.77952839e-15, 2.78750750e-15, 2.79504543e-15,\n",
              "       2.80217304e-15, 2.80891865e-15, 2.81530825e-15, 2.82136573e-15,\n",
              "       2.82711307e-15, 2.83257052e-15, 2.83775675e-15, 2.84268898e-15,\n",
              "       2.84738314e-15, 2.85185394e-15, 2.85611502e-15, 2.86017901e-15,\n",
              "       2.86405762e-15, 2.86776173e-15, 2.87130144e-15, 2.87468616e-15,\n",
              "       2.87792464e-15, 2.88102502e-15, 2.88399493e-15, 2.88684144e-15,\n",
              "       2.88957120e-15, 2.89219040e-15, 2.89470483e-15, 2.89711993e-15,\n",
              "       2.89944079e-15, 2.90167218e-15, 2.90381857e-15, 2.90588416e-15,\n",
              "       2.90787291e-15, 2.90978854e-15, 2.91163454e-15, 2.91341421e-15,\n",
              "       2.91513064e-15, 2.91678677e-15, 2.91838534e-15, 2.91992898e-15,\n",
              "       2.92142014e-15, 2.92286115e-15, 2.92425421e-15, 2.92560140e-15,\n",
              "       2.92690470e-15, 2.92816597e-15, 2.92938698e-15, 2.93056942e-15,\n",
              "       2.93171487e-15, 2.93282485e-15, 2.93390079e-15, 2.93494407e-15,\n",
              "       2.93595598e-15, 2.93693775e-15, 2.93789057e-15, 2.93881554e-15,\n",
              "       2.93971374e-15])"
            ]
          },
          "metadata": {},
          "execution_count": 24
        }
      ]
    },
    {
      "cell_type": "code",
      "source": [
        "#Grafica.\n",
        "figure(figsize=(12,8))\n",
        "plt.plot(R,v_c,'*',color='black', label=\"Datos\")\n",
        "plt.errorbar(R,v_c,yerr=sigma_vphi, linestyle='None', fmt = 'black', ms=8)\n",
        "plt.plot(R_bteorico,vc_del*(3.086e16/1.0001044887813144157), '--',color=\"blue\", label=\"Disco Delgado\")\n",
        "plt.title(\"Curva de rotación Disco delgado\")\n",
        "plt.xlabel(\"R [kpc]\")\n",
        "plt.ylabel(\"Vc [km/s]\")\n",
        "plt.xlim(0,20)\n",
        "plt.ylim(0,400)\n",
        "plt.legend(loc = 1)"
      ],
      "metadata": {
        "colab": {
          "base_uri": "https://localhost:8080/",
          "height": 530
        },
        "id": "qfJY8Ewjl6ga",
        "outputId": "77508135-b867-44be-e17a-b213facb0144"
      },
      "execution_count": null,
      "outputs": [
        {
          "output_type": "execute_result",
          "data": {
            "text/plain": [
              "<matplotlib.legend.Legend at 0x7f13b6ac4d90>"
            ]
          },
          "metadata": {},
          "execution_count": 84
        },
        {
          "output_type": "display_data",
          "data": {
            "text/plain": [
              "<Figure size 864x576 with 1 Axes>"
            ],
            "image/png": "[encoded data removed]"
          },
          "metadata": {
            "needs_background": "light"
          }
        }
      ]
    },
    {
      "cell_type": "code",
      "source": [
        "max(vc_del*(3.086e16/1.0001044887813144157))"
      ],
      "metadata": {
        "colab": {
          "base_uri": "https://localhost:8080/"
        },
        "id": "jy8sU_NlMMBp",
        "outputId": "c9f0c5d8-b696-473d-8dd4-815321436cfb"
      },
      "execution_count": null,
      "outputs": [
        {
          "output_type": "execute_result",
          "data": {
            "text/plain": [
              "90.71008772473942"
            ]
          },
          "metadata": {},
          "execution_count": 26
        }
      ]
    },
    {
      "cell_type": "code",
      "source": [
        "#Densidad disco grueso\n",
        "rho_gru = ((Mgru*b_Td**2)/(4*np.pi))*((a_gru*R**2+(a_gru+3*np.sqrt(z_gru**2+b_Td**2)*(a_gru+np.sqrt(z_gru**2+b_Td**2)**2))))/((R**2*(a_gru+np.sqrt(z_gru**2+b_Td**2)**2))**(5/2)*(z_gru**2+b_Td**2)**(3/2))"
      ],
      "metadata": {
        "id": "pPabtrJJzzs6"
      },
      "execution_count": null,
      "outputs": []
    },
    {
      "cell_type": "code",
      "source": [
        "fg = 0.10"
      ],
      "metadata": {
        "id": "ZTzB_5vOacrc"
      },
      "execution_count": null,
      "outputs": []
    },
    {
      "cell_type": "code",
      "source": [
        "#Velocidad para el disco grueso\n",
        "vc_gru = R_bteorico*np.sqrt((G*Mgru*fg)/(R_bteorico**2+(a_gru+b_Td**2)**(3/2)))\n",
        "vc_gru"
      ],
      "metadata": {
        "colab": {
          "base_uri": "https://localhost:8080/"
        },
        "id": "P_6GWnXOzzs-",
        "outputId": "42697a03-c0f5-4924-d18b-bae6f6313c0d"
      },
      "execution_count": null,
      "outputs": [
        {
          "output_type": "execute_result",
          "data": {
            "text/plain": [
              "array([0.00000000e+00, 3.48414172e-16, 6.89815468e-16, 1.01787539e-15,\n",
              "       1.32748485e-15, 1.61504605e-15, 1.87850844e-15, 2.11720252e-15,\n",
              "       2.33155725e-15, 2.52278258e-15, 2.69257556e-15, 2.84288055e-15,\n",
              "       2.97571199e-15, 3.09303497e-15, 3.19669238e-15, 3.28836665e-15,\n",
              "       3.36956513e-15, 3.44162060e-15, 3.50570072e-15, 3.56282210e-15,\n",
              "       3.61386620e-15, 3.65959547e-15, 3.70066857e-15, 3.73765437e-15,\n",
              "       3.77104437e-15, 3.80126367e-15, 3.82868043e-15, 3.85361405e-15,\n",
              "       3.87634212e-15, 3.89710643e-15, 3.91611805e-15, 3.93356162e-15,\n",
              "       3.94959904e-15, 3.96437263e-15, 3.97800773e-15, 3.99061505e-15,\n",
              "       4.00229254e-15, 4.01312711e-15, 4.02319599e-15, 4.03256801e-15,\n",
              "       4.04130461e-15, 4.04946076e-15, 4.05708573e-15, 4.06422380e-15,\n",
              "       4.07091481e-15, 4.07719466e-15, 4.08309581e-15, 4.08864763e-15,\n",
              "       4.09387673e-15, 4.09880728e-15, 4.10346126e-15, 4.10785870e-15,\n",
              "       4.11201786e-15, 4.11595543e-15, 4.11968670e-15, 4.12322566e-15,\n",
              "       4.12658515e-15, 4.12977697e-15, 4.13281198e-15, 4.13570019e-15,\n",
              "       4.13845081e-15, 4.14107236e-15, 4.14357273e-15, 4.14595919e-15,\n",
              "       4.14823851e-15, 4.15041696e-15, 4.15250034e-15, 4.15449406e-15,\n",
              "       4.15640317e-15, 4.15823234e-15, 4.15998594e-15, 4.16166806e-15,\n",
              "       4.16328249e-15, 4.16483279e-15, 4.16632230e-15, 4.16775414e-15,\n",
              "       4.16913121e-15, 4.17045628e-15, 4.17173190e-15, 4.17296049e-15,\n",
              "       4.17414432e-15, 4.17528553e-15, 4.17638613e-15, 4.17744802e-15,\n",
              "       4.17847297e-15, 4.17946268e-15, 4.18041873e-15, 4.18134263e-15,\n",
              "       4.18223579e-15, 4.18309956e-15, 4.18393521e-15, 4.18474393e-15,\n",
              "       4.18552688e-15, 4.18628512e-15, 4.18701969e-15, 4.18773155e-15,\n",
              "       4.18842162e-15, 4.18909079e-15, 4.18973989e-15, 4.19036970e-15,\n",
              "       4.19098099e-15])"
            ]
          },
          "metadata": {},
          "execution_count": 29
        }
      ]
    },
    {
      "cell_type": "code",
      "source": [
        "#Grafica.\n",
        "figure(figsize=(12,8))\n",
        "plt.plot(R,v_c,'*',color='black', label=\"Datos\")\n",
        "plt.errorbar(R,v_c,yerr=sigma_vphi, linestyle='None', fmt = 'black', ms=8)\n",
        "plt.plot(R_bteorico,vc_gru*(3.086e16/1.0001044887813144157),'-.', color=\"purple\", label=\"Disco Grueso\")\n",
        "plt.title(\"Curva de rotación Disco grueso\")\n",
        "plt.xlabel(\"R [kpc]\")\n",
        "plt.ylabel(\"Vc [km/s]\")\n",
        "plt.xlim(0,20)\n",
        "plt.ylim(0,400)\n",
        "plt.legend(loc = 1)"
      ],
      "metadata": {
        "colab": {
          "base_uri": "https://localhost:8080/",
          "height": 530
        },
        "outputId": "3e711ba1-c5e2-43ab-b381-db53310eaf0f",
        "id": "KSNfWGMmzzs_"
      },
      "execution_count": null,
      "outputs": [
        {
          "output_type": "execute_result",
          "data": {
            "text/plain": [
              "<matplotlib.legend.Legend at 0x7f13b72e1110>"
            ]
          },
          "metadata": {},
          "execution_count": 85
        },
        {
          "output_type": "display_data",
          "data": {
            "text/plain": [
              "<Figure size 864x576 with 1 Axes>"
            ],
            "image/png": "[encoded data removed]"
          },
          "metadata": {
            "needs_background": "light"
          }
        }
      ]
    },
    {
      "cell_type": "code",
      "source": [
        "max(vc_gru*(3.086e16/1.0001044887813144157))"
      ],
      "metadata": {
        "colab": {
          "base_uri": "https://localhost:8080/"
        },
        "id": "MPJjM-s5MTDt",
        "outputId": "02fac215-a87d-4957-9b59-cd7b636360d4"
      },
      "execution_count": null,
      "outputs": [
        {
          "output_type": "execute_result",
          "data": {
            "text/plain": [
              "129.3201608209779"
            ]
          },
          "metadata": {},
          "execution_count": 31
        }
      ]
    },
    {
      "cell_type": "code",
      "source": [
        "#Grafica de los datos y todos los ajustes\n",
        "plt.figure(figsize=(12,8))\n",
        "plt.plot(R,v_c,'*',color='black', label=\"Datos\")\n",
        "plt.errorbar(R,v_c,yerr=sigma_vphi, linestyle='None', fmt = 'black', ms=8)\n",
        "plt.plot(R_bteorico,vc_del*(3.086e16/1.0001044887813144157), \"--\", color=\"blue\", label=\"Disco Delgado\")\n",
        "plt.plot(R_bteorico,vc_gru*(3.086e16/1.0001044887813144157), \"-.\", color=\"purple\", label=\"Disco Grueso\")\n",
        "plt.xlabel(\"R [kpc]\")\n",
        "plt.title(\"Curva de rotación del Disco\")\n",
        "plt.ylim(0,400)\n",
        "plt.ylabel(\"Vc [km/s]\")\n",
        "plt.legend(loc = 1)\n",
        "#plt.grid()\n",
        "plt.savefig(\"disk_curve.png\")"
      ],
      "metadata": {
        "colab": {
          "base_uri": "https://localhost:8080/",
          "height": 513
        },
        "id": "Lv-3EWNHvad3",
        "outputId": "286ef1c6-4f5b-455e-8209-24ba2143b50e"
      },
      "execution_count": null,
      "outputs": [
        {
          "output_type": "display_data",
          "data": {
            "text/plain": [
              "<Figure size 864x576 with 1 Axes>"
            ],
            "image/png": "[encoded data removed]"
          },
          "metadata": {
            "needs_background": "light"
          }
        }
      ]
    },
    {
      "cell_type": "markdown",
      "source": [
        "PARA EL HALO DE MATERIA OSCURA: \\\\\n",
        "\n",
        "$\\rho_{h}(r) = \\frac{\\rho_{0}}{(r/a_{h})(1+r/a_{h})^{2}}$\n",
        "\n",
        "donde $\\rho_{0}$ es la densidad de escala del halo de DM y $a_{h}$ es el radio de escala.\n",
        "\n",
        "$\\Phi_{h}(r) = \\frac{-4\\pi G \\rho_{0}a^{2}}{r/a} ln(1+r/a)$\n"
      ],
      "metadata": {
        "id": "0N7hqbUZGS_G"
      }
    },
    {
      "cell_type": "code",
      "source": [
        "#Definimos\n",
        "a_h = 18\n",
        "#a_h = 14.8 #Eilers et al.2019\n",
        "#rho_0 = 7.18e-3 #M⊙ pc−3  http://www.ioa.s.u-tokyo.ac.jp/~sofue/htdocs/dh2011/ms.pdf\n",
        "rho_0 = 2e7 #Eilers et al.2019"
      ],
      "metadata": {
        "id": "qVrstnSBGSdB"
      },
      "execution_count": null,
      "outputs": []
    },
    {
      "cell_type": "code",
      "source": [
        "rho_h = rho_0 / ((R_bteorico/a_h)*(1+(R_bteorico/a_h)**2))"
      ],
      "metadata": {
        "colab": {
          "base_uri": "https://localhost:8080/"
        },
        "id": "oZTOid4vIVgd",
        "outputId": "64216be3-c135-42b2-d714-ee39a0cf2fa3"
      },
      "execution_count": null,
      "outputs": [
        {
          "output_type": "stream",
          "name": "stderr",
          "text": [
            "/usr/local/lib/python3.7/dist-packages/ipykernel_launcher.py:1: RuntimeWarning: divide by zero encountered in true_divide\n",
            "  \"\"\"Entry point for launching an IPython kernel.\n"
          ]
        }
      ]
    },
    {
      "cell_type": "markdown",
      "source": [
        "\n",
        "$M_{h} = 4\\pi \\rho_{0}a^{3}[ln(1+r/a)-\\frac{r/a}{1+r/a}]$"
      ],
      "metadata": {
        "id": "e7NEfN5NS71H"
      }
    },
    {
      "cell_type": "code",
      "source": [
        "#Definimos la masa\n",
        "#M_h = 4*np.pi*rho_h*a_h**3*(np.log(1+R_bteorico/a_h)-((R_bteorico/a_h)/(1+R_bteorico/a_h)))\n",
        "\n",
        "#https://repositorio.unal.edu.co/bitstream/handle/unal/78533/80834000.2020.pdf?sequence=1&isAllowed=y\n",
        "#M_0 = 5e11\n",
        "M_0 = 4*np.pi*rho_0*a_h**3\n",
        "#M_h = M_0*(np.log(1+R_bteorico/a_h)-((R_bteorico/a_h)/(1+R_bteorico/a_h)))"
      ],
      "metadata": {
        "id": "8E3XHoPIP1lO"
      },
      "execution_count": null,
      "outputs": []
    },
    {
      "cell_type": "code",
      "source": [
        "M_h = (M_0)*(np.log(1+R_bteorico/a_h)-((R_bteorico/a_h)/(1+R_bteorico/a_h)))"
      ],
      "metadata": {
        "id": "GuMkkU-S8j2C"
      },
      "execution_count": null,
      "outputs": []
    },
    {
      "cell_type": "code",
      "source": [
        "#Definimos la velocidad circular a partir de la derivada del potencial\n",
        "#velocidad = np.sqrt((-4*np.pi*G*a_h**3*(R_bteorico-(a_h+R_bteorico)*np.log((a_h+R_bteorico)/a_h))) / (r*(a_h+R_bteorico)))\n",
        "#velocidad"
      ],
      "metadata": {
        "id": "VEhTk-1vTYld"
      },
      "execution_count": null,
      "outputs": []
    },
    {
      "cell_type": "code",
      "source": [
        "vc_h = np.sqrt((G*M_h)/R_bteorico)\n",
        "vc_h"
      ],
      "metadata": {
        "id": "keLTPTcuIVcx",
        "outputId": "b5fc39c5-1d9a-4da2-a03d-637bb88a22e9",
        "colab": {
          "base_uri": "https://localhost:8080/"
        }
      },
      "execution_count": null,
      "outputs": [
        {
          "output_type": "stream",
          "name": "stderr",
          "text": [
            "/usr/local/lib/python3.7/dist-packages/ipykernel_launcher.py:1: RuntimeWarning: invalid value encountered in true_divide\n",
            "  \"\"\"Entry point for launching an IPython kernel.\n"
          ]
        },
        {
          "output_type": "execute_result",
          "data": {
            "text/plain": [
              "array([           nan, 1.41920731e-15, 1.99247183e-15, 2.42270530e-15,\n",
              "       2.77756033e-15, 3.08348756e-15, 3.35417765e-15, 3.59783838e-15,\n",
              "       3.81986670e-15, 4.02404558e-15, 4.21315426e-15, 4.38930953e-15,\n",
              "       4.55417033e-15, 4.70906721e-15, 4.85508798e-15, 4.99313646e-15,\n",
              "       5.12397391e-15, 5.24824918e-15, 5.36652103e-15, 5.47927494e-15,\n",
              "       5.58693617e-15, 5.68987984e-15, 5.78843894e-15, 5.88291079e-15,\n",
              "       5.97356220e-15, 6.06063376e-15, 6.14434331e-15, 6.22488891e-15,\n",
              "       6.30245124e-15, 6.37719570e-15, 6.44927415e-15, 6.51882644e-15,\n",
              "       6.58598167e-15, 6.65085932e-15, 6.71357022e-15, 6.77421742e-15,\n",
              "       6.83289687e-15, 6.88969816e-15, 6.94470500e-15, 6.99799582e-15,\n",
              "       7.04964415e-15, 7.09971908e-15, 7.14828560e-15, 7.19540491e-15,\n",
              "       7.24113475e-15, 7.28552962e-15, 7.32864105e-15, 7.37051782e-15,\n",
              "       7.41120613e-15, 7.45074979e-15, 7.48919039e-15, 7.52656745e-15,\n",
              "       7.56291855e-15, 7.59827944e-15, 7.63268420e-15, 7.66616530e-15,\n",
              "       7.69875370e-15, 7.73047899e-15, 7.76136942e-15, 7.79145198e-15,\n",
              "       7.82075251e-15, 7.84929574e-15, 7.87710534e-15, 7.90420401e-15,\n",
              "       7.93061349e-15, 7.95635467e-15, 7.98144758e-15, 8.00591144e-15,\n",
              "       8.02976476e-15, 8.05302529e-15, 8.07571012e-15, 8.09783570e-15,\n",
              "       8.11941784e-15, 8.14047178e-15, 8.16101221e-15, 8.18105327e-15,\n",
              "       8.20060860e-15, 8.21969136e-15, 8.23831424e-15, 8.25648948e-15,\n",
              "       8.27422893e-15, 8.29154400e-15, 8.30844573e-15, 8.32494480e-15,\n",
              "       8.34105151e-15, 8.35677585e-15, 8.37212746e-15, 8.38711568e-15,\n",
              "       8.40174955e-15, 8.41603783e-15, 8.42998899e-15, 8.44361125e-15,\n",
              "       8.45691256e-15, 8.46990063e-15, 8.48258295e-15, 8.49496677e-15,\n",
              "       8.50705913e-15, 8.51886684e-15, 8.53039654e-15, 8.54165466e-15,\n",
              "       8.55264744e-15])"
            ]
          },
          "metadata": {},
          "execution_count": 38
        }
      ]
    },
    {
      "cell_type": "code",
      "source": [
        "#Grafica.\n",
        "plt.figure(figsize=(12,8))\n",
        "plt.plot(R,v_c,'*',color='black', label=\"Datos\")\n",
        "plt.errorbar(R,v_c,yerr=sigma_vphi, linestyle='None', fmt = 'black', ms=8)\n",
        "plt.plot(R_bteorico,vc_h*(3.086e16/1.0001044887813144157),'-', color=\"green\", label=\"Halo de materia oscura\")\n",
        "plt.title(\"Curva de rotación del halo de materia oscura\")\n",
        "plt.xlabel(\"R [kpc]\")\n",
        "plt.ylabel(\"Vc [km/s]\")\n",
        "plt.xlim(0,20)\n",
        "plt.ylim(0,400)\n",
        "plt.legend(loc = 1)\n",
        "plt.savefig(\"dark_curve.png\")"
      ],
      "metadata": {
        "colab": {
          "base_uri": "https://localhost:8080/",
          "height": 513
        },
        "id": "9i-IHnHGIVZ9",
        "outputId": "4bec47eb-18fd-4326-bf7d-cbb3e357bd87"
      },
      "execution_count": null,
      "outputs": [
        {
          "output_type": "display_data",
          "data": {
            "text/plain": [
              "<Figure size 864x576 with 1 Axes>"
            ],
            "image/png": "[encoded data removed]"
          },
          "metadata": {
            "needs_background": "light"
          }
        }
      ]
    },
    {
      "cell_type": "code",
      "source": [],
      "metadata": {
        "id": "4nsLp0TUIVMW"
      },
      "execution_count": null,
      "outputs": []
    },
    {
      "cell_type": "code",
      "source": [
        "#Grafica de los datos y todos los ajustes\n",
        "plt.figure(figsize=(12,8))\n",
        "plt.plot(R,v_c, \"*\", color=\"black\", label=\"Datos\")\n",
        "plt.errorbar(R,v_c,yerr=sigma_vphi, linestyle='None', fmt = 'black', ms=8)\n",
        "plt.plot(R_bteorico,vc_b*(3.086e16/1.0001044887813144157), \".\", color=\"red\", label=\"Bulbo\")\n",
        "plt.plot(R_bteorico,vc_del*(3.086e16/1.0001044887813144157), \"--\", color=\"blue\", label=\"Disco Delgado\")\n",
        "plt.plot(R_bteorico,vc_gru*(3.086e16/1.0001044887813144157), \"-.\", color=\"purple\", label=\"Disco Grueso\")\n",
        "plt.plot(R_bteorico,vc_h*(3.086e16/1.0001044887813144157),'-', color=\"green\", label=\"Halo de materia oscura\")\n",
        "plt.xlabel(\"R [kpc]\")\n",
        "plt.ylim(0,400)\n",
        "plt.ylabel(\"Vc [km/s]\")\n",
        "plt.legend(loc = 1)\n",
        "plt.title(\"Curva de rotación de la Vía Láctea\")\n",
        "#plt.grid()"
      ],
      "metadata": {
        "id": "GrhanQV43jdL",
        "colab": {
          "base_uri": "https://localhost:8080/",
          "height": 530
        },
        "outputId": "0a6fa2bc-728e-49dc-97ae-f6a2c88c0d69"
      },
      "execution_count": null,
      "outputs": [
        {
          "output_type": "execute_result",
          "data": {
            "text/plain": [
              "Text(0.5, 1.0, 'Curva de rotación de la Vía Láctea')"
            ]
          },
          "metadata": {},
          "execution_count": 66
        },
        {
          "output_type": "display_data",
          "data": {
            "text/plain": [
              "<Figure size 864x576 with 1 Axes>"
            ],
            "image/png": "[encoded data removed]"
          },
          "metadata": {
            "needs_background": "light"
          }
        }
      ]
    },
    {
      "cell_type": "code",
      "source": [],
      "metadata": {
        "id": "WiSr5vf1odp5"
      },
      "execution_count": null,
      "outputs": []
    },
    {
      "cell_type": "markdown",
      "source": [
        "MODELO RELATIVISTA \\\\\n",
        "Mismo artículo de los datos (On testing CDM and geometry-driven Milky Way rotation curve models with Gaia DR2)\n"
      ],
      "metadata": {
        "id": "pvlJllnBShmK"
      }
    },
    {
      "cell_type": "markdown",
      "source": [
        "$V^{BG} (R) = \\frac{V0}{R}(R_{out} - r_{in} + \\sqrt{r_{in}^{2} + R^{2}} - \\sqrt{R_{out}^{2} + R^{2}})\n",
        "$"
      ],
      "metadata": {
        "id": "dPVOEAZJT7bi"
      }
    },
    {
      "cell_type": "code",
      "source": [
        "r_in = 0.39\n",
        "R_out = 47.87\n",
        "V0 = 263.10"
      ],
      "metadata": {
        "id": "9HfH7hxo0rHN"
      },
      "execution_count": null,
      "outputs": []
    },
    {
      "cell_type": "code",
      "source": [
        "#Velocidad\n",
        "V_BG = (V0/r)*(R_out - r_in + np.sqrt(r_in**2 + r**2) - np.sqrt(R_out**2 + r**2))\n"
      ],
      "metadata": {
        "id": "7BLAJj6Tnsa1"
      },
      "execution_count": null,
      "outputs": []
    },
    {
      "cell_type": "code",
      "source": [
        "#Grafica de los datos y todos los ajustes\n",
        "plt.figure(figsize=(12,8))\n",
        "plt.plot(R,v_c, \"*\", color=\"black\", label=\"Data\")\n",
        "plt.errorbar(R,v_c,yerr=sigma_vphi, linestyle='None', fmt = 'black', ms=8)\n",
        "plt.plot(r,V_BG,'-', color=\"magenta\", label=\"$V^{BG}$\")\n",
        "plt.plot(R_bteorico,vc_b*(3.086e16/1.0001044887813144157), \".\", color=\"red\", label=\"Bulbo\")\n",
        "plt.plot(R_bteorico,vc_del*(3.086e16/1.0001044887813144157), \"--\", color=\"blue\", label=\"Disco Delgado\")\n",
        "plt.plot(R_bteorico,vc_gru*(3.086e16/1.0001044887813144157), \"-.\", color=\"purple\", label=\"Disco Grueso\")\n",
        "plt.plot(R_bteorico,vc_h*(3.086e16/1.0001044887813144157),'-', color=\"green\", label=\"Halo de materia oscura\")\n",
        "plt.xlabel(\"R [kpc]\")\n",
        "plt.ylim(0,400)\n",
        "plt.ylabel(\"Vc [km/s]\")\n",
        "plt.legend(loc = 1)\n",
        "plt.title(\"Curva de rotación de la Vía Láctea\")\n",
        "#plt.grid()\n",
        "plt.savefig(\"milky way curves.png\")"
      ],
      "metadata": {
        "colab": {
          "base_uri": "https://localhost:8080/",
          "height": 513
        },
        "id": "06SSM443cRmj",
        "outputId": "e603c7fa-78c9-42d7-a3d5-02999ae31267"
      },
      "execution_count": null,
      "outputs": [
        {
          "output_type": "display_data",
          "data": {
            "text/plain": [
              "<Figure size 864x576 with 1 Axes>"
            ],
            "image/png": "[encoded data removed]"
          },
          "metadata": {
            "needs_background": "light"
          }
        }
      ]
    },
    {
      "cell_type": "code",
      "source": [],
      "metadata": {
        "id": "3vOX5vs5hYcj"
      },
      "execution_count": null,
      "outputs": []
    },
    {
      "cell_type": "markdown",
      "source": [
        "#POTENCIALES ESFERICOS"
      ],
      "metadata": {
        "id": "IEYDHIYiqIET"
      }
    },
    {
      "cell_type": "markdown",
      "source": [
        "HERNQUIST BULBO"
      ],
      "metadata": {
        "id": "C1tvZsIWlZ7C"
      }
    },
    {
      "cell_type": "markdown",
      "source": [
        "$\\rho(r) = \\frac{M}{2\\pi}\\frac{a}{r(r+a)^{3}}$"
      ],
      "metadata": {
        "id": "GAqxLD0diFqc"
      }
    },
    {
      "cell_type": "code",
      "source": [
        "m0 = M_b"
      ],
      "metadata": {
        "id": "d_ofajBSioA8"
      },
      "execution_count": null,
      "outputs": []
    },
    {
      "cell_type": "code",
      "source": [
        "rho_her = (m0*b_b)/(2*np.pi*R_bteorico*(R_bteorico+b_b)**3)"
      ],
      "metadata": {
        "id": "VTFl-BuuhoId",
        "colab": {
          "base_uri": "https://localhost:8080/"
        },
        "outputId": "7f38fe4a-d78b-4432-f119-9d17fe5d0b90"
      },
      "execution_count": null,
      "outputs": [
        {
          "output_type": "stream",
          "name": "stderr",
          "text": [
            "/usr/local/lib/python3.7/dist-packages/ipykernel_launcher.py:1: RuntimeWarning: divide by zero encountered in true_divide\n",
            "  \"\"\"Entry point for launching an IPython kernel.\n"
          ]
        }
      ]
    },
    {
      "cell_type": "markdown",
      "source": [
        "$M(r) = \\frac{Mr^{2}}{(r+a)^{2}}$"
      ],
      "metadata": {
        "id": "TmjE9HkVizyN"
      }
    },
    {
      "cell_type": "code",
      "source": [
        "M_her = (m0*R_bteorico**2)/(R_bteorico+b_b)**2"
      ],
      "metadata": {
        "id": "_3_6tPKxhYZg"
      },
      "execution_count": null,
      "outputs": []
    },
    {
      "cell_type": "markdown",
      "source": [
        "$v_{c}(r) = \\sqrt{\\frac{GMr}{(r+a)}}$"
      ],
      "metadata": {
        "id": "86x8kO9BjOu9"
      }
    },
    {
      "cell_type": "code",
      "source": [
        "V_her = np.sqrt((G*M_her*R_bteorico)/(R_bteorico+b_b))"
      ],
      "metadata": {
        "id": "0PbH9ncRh0yl"
      },
      "execution_count": null,
      "outputs": []
    },
    {
      "cell_type": "markdown",
      "source": [
        "JAFFE BULBO \\\\\n",
        "\n",
        "$\\rho(r) = \\frac{M}{4\\pi}\\frac{a}{r^{2}(r+a)^{2}}$"
      ],
      "metadata": {
        "id": "ExT8Pi_7mFSC"
      }
    },
    {
      "cell_type": "code",
      "source": [
        "rho_jaff = (m0*b_b)/(4*np.pi*R_bteorico**2*(R_bteorico+b_b)**2)"
      ],
      "metadata": {
        "id": "9QfaRx8mjmFi",
        "colab": {
          "base_uri": "https://localhost:8080/"
        },
        "outputId": "b387a467-08a8-4c31-9c47-713048aaeac0"
      },
      "execution_count": null,
      "outputs": [
        {
          "output_type": "stream",
          "name": "stderr",
          "text": [
            "/usr/local/lib/python3.7/dist-packages/ipykernel_launcher.py:1: RuntimeWarning: divide by zero encountered in true_divide\n",
            "  \"\"\"Entry point for launching an IPython kernel.\n"
          ]
        }
      ]
    },
    {
      "cell_type": "markdown",
      "source": [
        "$M(r) = \\frac{Mr}{(r+a)}$"
      ],
      "metadata": {
        "id": "8VXjXmXMncf4"
      }
    },
    {
      "cell_type": "code",
      "source": [
        "M_jaff = (m0*R_bteorico)/(R_bteorico+b_b)"
      ],
      "metadata": {
        "id": "Sn1OZh2XnWuQ"
      },
      "execution_count": null,
      "outputs": []
    },
    {
      "cell_type": "markdown",
      "source": [
        "$v_{c}(r) = \\sqrt{\\frac{GM}{(r+a)}}$"
      ],
      "metadata": {
        "id": "XU47bjNbnxeF"
      }
    },
    {
      "cell_type": "code",
      "source": [
        "V_jaff = np.sqrt((G*M_jaff)/(R_bteorico+b_b))"
      ],
      "metadata": {
        "id": "Bfr42Vllnr1m"
      },
      "execution_count": null,
      "outputs": []
    },
    {
      "cell_type": "code",
      "source": [
        "plt.figure(figsize=(12,8))\n",
        "plt.plot(R,v_c, \"*\", color=\"black\", label=\"Datos\")\n",
        "plt.errorbar(R,v_c,yerr=sigma_vphi, linestyle='None', fmt = 'black', ms=8)\n",
        "plt.plot(R_bteorico,vc_b*(3.086e16/1.0001044887813144157), \"-\", color=\"red\", label=\"Plummer\")\n",
        "plt.plot(R_bteorico,V_her*(3.086e16/1.0001044887813144157), \"-\", color=\"blue\", label=\"Hernquist\")\n",
        "plt.plot(R_bteorico,V_jaff*(3.086e16/1.0001044887813144157), \"-\", color=\"green\", label=\"Jaffe\")\n",
        "plt.xlabel(\"R [kpc]\")\n",
        "plt.ylim(0,400)\n",
        "plt.ylabel(\"Vc [km/s]\")\n",
        "plt.legend(loc = 1)\n",
        "plt.title(\"Curva de rotación para el Bulbo\")\n",
        "#plt.grid()\n",
        "plt.savefig(\"perfiles bulbo.png\")"
      ],
      "metadata": {
        "colab": {
          "base_uri": "https://localhost:8080/",
          "height": 513
        },
        "id": "aD_r23MyoO9J",
        "outputId": "59136175-aad3-44b5-9433-2d3123e63f6a"
      },
      "execution_count": null,
      "outputs": [
        {
          "output_type": "display_data",
          "data": {
            "text/plain": [
              "<Figure size 864x576 with 1 Axes>"
            ],
            "image/png": "[encoded data removed]"
          },
          "metadata": {
            "needs_background": "light"
          }
        }
      ]
    },
    {
      "cell_type": "markdown",
      "source": [
        "#POTENCIALES HALO DM"
      ],
      "metadata": {
        "id": "qDTVrcslsy-3"
      }
    },
    {
      "cell_type": "markdown",
      "source": [
        "Salucci, P., & Burkert, A. (2000). Dark matter scaling relations. The Astrophysical Journal, 537(1), L9."
      ],
      "metadata": {
        "id": "R7rltAoAHokJ"
      }
    },
    {
      "cell_type": "markdown",
      "source": [
        "BURKERT"
      ],
      "metadata": {
        "id": "OlIBpxCiEw4E"
      }
    },
    {
      "cell_type": "markdown",
      "source": [
        "$\\rho_{BK} = \\frac{\\rho_{0}a^{3}}{(r+a)(r^{2}+a^{2})}$"
      ],
      "metadata": {
        "id": "WzE1LzEvH39J"
      }
    },
    {
      "cell_type": "code",
      "source": [
        "rho_bk = (rho_0*a_h**3)/((R_bteorico+a_h)*(R_bteorico**2+a_h**2))"
      ],
      "metadata": {
        "id": "5-EhiYNIH39K"
      },
      "execution_count": null,
      "outputs": []
    },
    {
      "cell_type": "markdown",
      "source": [
        "$M_{b}(r) = 4M_{0}[ln(1+\\frac{r}{a})-tan^{-1}(\\frac{r}{a})+\\frac{1}{2}ln[1+(\\frac{r}{a})^2]]$"
      ],
      "metadata": {
        "id": "B_qtCJTfICyZ"
      }
    },
    {
      "cell_type": "code",
      "source": [
        "#Definimos materia negra dentro del núcleo\n",
        "M_0 = 1.6*rho_0*a_h**3"
      ],
      "metadata": {
        "id": "nHmoFWfPD3AX"
      },
      "execution_count": null,
      "outputs": []
    },
    {
      "cell_type": "code",
      "source": [
        "m_bk = 4*M_0*(np.log(1+R_bteorico/a_h)-np.arctan(R_bteorico/a_h)+ (1/2)*np.log(1+(R_bteorico/a_h)**2))"
      ],
      "metadata": {
        "id": "nut8Rl3KCtP5"
      },
      "execution_count": null,
      "outputs": []
    },
    {
      "cell_type": "markdown",
      "source": [
        "$V = \\sqrt{\\frac{G}{R}M_{BK}}$"
      ],
      "metadata": {
        "id": "oXM3sVMjWS8n"
      }
    },
    {
      "cell_type": "code",
      "source": [
        "v_bk = np.sqrt((G*m_bk)/R_bteorico)"
      ],
      "metadata": {
        "colab": {
          "base_uri": "https://localhost:8080/"
        },
        "id": "PjFRP-HwE1lj",
        "outputId": "ff84334a-c6f9-4017-fbdc-42bbcd411501"
      },
      "execution_count": null,
      "outputs": [
        {
          "output_type": "stream",
          "name": "stderr",
          "text": [
            "/usr/local/lib/python3.7/dist-packages/ipykernel_launcher.py:1: RuntimeWarning: invalid value encountered in true_divide\n",
            "  \"\"\"Entry point for launching an IPython kernel.\n"
          ]
        }
      ]
    },
    {
      "cell_type": "code",
      "source": [
        "#Grafica de los datos y todos los ajustes\n",
        "plt.figure(figsize=(12,8))\n",
        "plt.plot(R,v_c, \"*\", color=\"black\", label=\"Datos\")\n",
        "plt.errorbar(R,v_c,yerr=sigma_vphi, linestyle='None', fmt = 'black', ms=8)\n",
        "plt.plot(R_bteorico,v_bk*(3.086e16/1.0001044887813144157),\"-\", color=\"blue\", label=\"Burkert\")\n",
        "plt.plot(R_bteorico,vc_h*(3.086e16/1.0001044887813144157),'-', color=\"green\", label=\"NFW\")\n",
        "plt.xlabel(\"R [kpc]\")\n",
        "plt.ylim(0,400)\n",
        "plt.ylabel(\"Vc [km/s]\")\n",
        "plt.legend(loc = 1)\n",
        "plt.title(\"Curva de rotación para el Halo de materia oscura\")\n",
        "#plt.grid()\n",
        "plt.savefig(\"perfiles dm.png\")"
      ],
      "metadata": {
        "colab": {
          "base_uri": "https://localhost:8080/",
          "height": 513
        },
        "id": "t-o0W-1oF4P7",
        "outputId": "47d94a09-7b90-44c4-9231-e97f913838d7"
      },
      "execution_count": null,
      "outputs": [
        {
          "output_type": "display_data",
          "data": {
            "text/plain": [
              "<Figure size 864x576 with 1 Axes>"
            ],
            "image/png": "[encoded data removed]"
          },
          "metadata": {
            "needs_background": "light"
          }
        }
      ]
    },
    {
      "cell_type": "code",
      "source": [],
      "metadata": {
        "id": "kkv-wGNnFKy1"
      },
      "execution_count": null,
      "outputs": []
    }
  ]
}
