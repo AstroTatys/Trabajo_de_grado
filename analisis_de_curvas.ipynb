{
  "cells": [
    {
      "cell_type": "code",
      "execution_count": null,
      "metadata": {
        "id": "JwdRP-bOUYqr",
        "outputId": "25076fe6-fbfb-416e-920a-6e68bf8cb685",
        "colab": {
          "base_uri": "https://localhost:8080/"
        }
      },
      "outputs": [
        {
          "output_type": "stream",
          "name": "stdout",
          "text": [
            "Populating the interactive namespace from numpy and matplotlib\n"
          ]
        }
      ],
      "source": [
        "#Librerias.\n",
        "import numpy as np\n",
        "from scipy.optimize import curve_fit\n",
        "import scipy.integrate as integrate\n",
        "import scipy.special as special\n",
        "import matplotlib.pyplot as plt\n",
        "%pylab inline"
      ]
    },
    {
      "cell_type": "code",
      "source": [
        "#Datos.\n",
        "from google.colab import files\n",
        "uploaded = files.upload()"
      ],
      "metadata": {
        "colab": {
          "base_uri": "https://localhost:8080/",
          "height": 73
        },
        "id": "t5GvFwTiQHZi",
        "outputId": "b2f8f070-63fb-445a-c470-5d97e34b7b92"
      },
      "execution_count": null,
      "outputs": [
        {
          "output_type": "display_data",
          "data": {
            "text/plain": [
              "<IPython.core.display.HTML object>"
            ],
            "text/html": [
              "\n",
              "     <input type=\"file\" id=\"files-cb9b529f-1ab4-4343-a01c-f991746c7f68\" name=\"files[]\" multiple disabled\n",
              "        style=\"border:none\" />\n",
              "     <output id=\"result-cb9b529f-1ab4-4343-a01c-f991746c7f68\">\n",
              "      Upload widget is only available when the cell has been executed in the\n",
              "      current browser session. Please rerun this cell to enable.\n",
              "      </output>\n",
              "      <script>// Copyright 2017 Google LLC\n",
              "//\n",
              "// Licensed under the Apache License, Version 2.0 (the \"License\");\n",
              "// you may not use this file except in compliance with the License.\n",
              "// You may obtain a copy of the License at\n",
              "//\n",
              "//      http://www.apache.org/licenses/LICENSE-2.0\n",
              "//\n",
              "// Unless required by applicable law or agreed to in writing, software\n",
              "// distributed under the License is distributed on an \"AS IS\" BASIS,\n",
              "// WITHOUT WARRANTIES OR CONDITIONS OF ANY KIND, either express or implied.\n",
              "// See the License for the specific language governing permissions and\n",
              "// limitations under the License.\n",
              "\n",
              "/**\n",
              " * @fileoverview Helpers for google.colab Python module.\n",
              " */\n",
              "(function(scope) {\n",
              "function span(text, styleAttributes = {}) {\n",
              "  const element = document.createElement('span');\n",
              "  element.textContent = text;\n",
              "  for (const key of Object.keys(styleAttributes)) {\n",
              "    element.style[key] = styleAttributes[key];\n",
              "  }\n",
              "  return element;\n",
              "}\n",
              "\n",
              "// Max number of bytes which will be uploaded at a time.\n",
              "const MAX_PAYLOAD_SIZE = 100 * 1024;\n",
              "\n",
              "function _uploadFiles(inputId, outputId) {\n",
              "  const steps = uploadFilesStep(inputId, outputId);\n",
              "  const outputElement = document.getElementById(outputId);\n",
              "  // Cache steps on the outputElement to make it available for the next call\n",
              "  // to uploadFilesContinue from Python.\n",
              "  outputElement.steps = steps;\n",
              "\n",
              "  return _uploadFilesContinue(outputId);\n",
              "}\n",
              "\n",
              "// This is roughly an async generator (not supported in the browser yet),\n",
              "// where there are multiple asynchronous steps and the Python side is going\n",
              "// to poll for completion of each step.\n",
              "// This uses a Promise to block the python side on completion of each step,\n",
              "// then passes the result of the previous step as the input to the next step.\n",
              "function _uploadFilesContinue(outputId) {\n",
              "  const outputElement = document.getElementById(outputId);\n",
              "  const steps = outputElement.steps;\n",
              "\n",
              "  const next = steps.next(outputElement.lastPromiseValue);\n",
              "  return Promise.resolve(next.value.promise).then((value) => {\n",
              "    // Cache the last promise value to make it available to the next\n",
              "    // step of the generator.\n",
              "    outputElement.lastPromiseValue = value;\n",
              "    return next.value.response;\n",
              "  });\n",
              "}\n",
              "\n",
              "/**\n",
              " * Generator function which is called between each async step of the upload\n",
              " * process.\n",
              " * @param {string} inputId Element ID of the input file picker element.\n",
              " * @param {string} outputId Element ID of the output display.\n",
              " * @return {!Iterable<!Object>} Iterable of next steps.\n",
              " */\n",
              "function* uploadFilesStep(inputId, outputId) {\n",
              "  const inputElement = document.getElementById(inputId);\n",
              "  inputElement.disabled = false;\n",
              "\n",
              "  const outputElement = document.getElementById(outputId);\n",
              "  outputElement.innerHTML = '';\n",
              "\n",
              "  const pickedPromise = new Promise((resolve) => {\n",
              "    inputElement.addEventListener('change', (e) => {\n",
              "      resolve(e.target.files);\n",
              "    });\n",
              "  });\n",
              "\n",
              "  const cancel = document.createElement('button');\n",
              "  inputElement.parentElement.appendChild(cancel);\n",
              "  cancel.textContent = 'Cancel upload';\n",
              "  const cancelPromise = new Promise((resolve) => {\n",
              "    cancel.onclick = () => {\n",
              "      resolve(null);\n",
              "    };\n",
              "  });\n",
              "\n",
              "  // Wait for the user to pick the files.\n",
              "  const files = yield {\n",
              "    promise: Promise.race([pickedPromise, cancelPromise]),\n",
              "    response: {\n",
              "      action: 'starting',\n",
              "    }\n",
              "  };\n",
              "\n",
              "  cancel.remove();\n",
              "\n",
              "  // Disable the input element since further picks are not allowed.\n",
              "  inputElement.disabled = true;\n",
              "\n",
              "  if (!files) {\n",
              "    return {\n",
              "      response: {\n",
              "        action: 'complete',\n",
              "      }\n",
              "    };\n",
              "  }\n",
              "\n",
              "  for (const file of files) {\n",
              "    const li = document.createElement('li');\n",
              "    li.append(span(file.name, {fontWeight: 'bold'}));\n",
              "    li.append(span(\n",
              "        `(${file.type || 'n/a'}) - ${file.size} bytes, ` +\n",
              "        `last modified: ${\n",
              "            file.lastModifiedDate ? file.lastModifiedDate.toLocaleDateString() :\n",
              "                                    'n/a'} - `));\n",
              "    const percent = span('0% done');\n",
              "    li.appendChild(percent);\n",
              "\n",
              "    outputElement.appendChild(li);\n",
              "\n",
              "    const fileDataPromise = new Promise((resolve) => {\n",
              "      const reader = new FileReader();\n",
              "      reader.onload = (e) => {\n",
              "        resolve(e.target.result);\n",
              "      };\n",
              "      reader.readAsArrayBuffer(file);\n",
              "    });\n",
              "    // Wait for the data to be ready.\n",
              "    let fileData = yield {\n",
              "      promise: fileDataPromise,\n",
              "      response: {\n",
              "        action: 'continue',\n",
              "      }\n",
              "    };\n",
              "\n",
              "    // Use a chunked sending to avoid message size limits. See b/62115660.\n",
              "    let position = 0;\n",
              "    do {\n",
              "      const length = Math.min(fileData.byteLength - position, MAX_PAYLOAD_SIZE);\n",
              "      const chunk = new Uint8Array(fileData, position, length);\n",
              "      position += length;\n",
              "\n",
              "      const base64 = btoa(String.fromCharCode.apply(null, chunk));\n",
              "      yield {\n",
              "        response: {\n",
              "          action: 'append',\n",
              "          file: file.name,\n",
              "          data: base64,\n",
              "        },\n",
              "      };\n",
              "\n",
              "      let percentDone = fileData.byteLength === 0 ?\n",
              "          100 :\n",
              "          Math.round((position / fileData.byteLength) * 100);\n",
              "      percent.textContent = `${percentDone}% done`;\n",
              "\n",
              "    } while (position < fileData.byteLength);\n",
              "  }\n",
              "\n",
              "  // All done.\n",
              "  yield {\n",
              "    response: {\n",
              "      action: 'complete',\n",
              "    }\n",
              "  };\n",
              "}\n",
              "\n",
              "scope.google = scope.google || {};\n",
              "scope.google.colab = scope.google.colab || {};\n",
              "scope.google.colab._files = {\n",
              "  _uploadFiles,\n",
              "  _uploadFilesContinue,\n",
              "};\n",
              "})(self);\n",
              "</script> "
            ]
          },
          "metadata": {}
        },
        {
          "output_type": "stream",
          "name": "stdout",
          "text": [
            "Saving 0000.dat to 0000.dat\n"
          ]
        }
      ]
    },
    {
      "cell_type": "code",
      "execution_count": null,
      "metadata": {
        "id": "jOZgx2m7UYq5",
        "outputId": "dbf8ebee-6a15-4fc6-cfaa-26b9c5c155bd",
        "colab": {
          "base_uri": "https://localhost:8080/",
          "height": 300
        }
      },
      "outputs": [
        {
          "output_type": "execute_result",
          "data": {
            "text/plain": [
              "(0.0, 400.0)"
            ]
          },
          "metadata": {},
          "execution_count": 3
        },
        {
          "output_type": "display_data",
          "data": {
            "text/plain": [
              "<Figure size 432x288 with 1 Axes>"
            ],
            "image/png": "[encoded data removed]"
          },
          "metadata": {
            "needs_background": "light"
          }
        }
      ],
      "source": [
        "#Datos.\n",
        "radio,velc = np.loadtxt(\"0000.dat\",usecols=(0,1),unpack=True,comments=\"#\") # radio(r) = [kpc] & Velocidad(Vr) = [Km/s]\n",
        "\n",
        "#Constante.\n",
        "global G\n",
        "G = 6.67384E-11*1.9891E30*(1.0001044887813144157/3.086e19)**3 #[kpc^3/(Msun*s^3)]\n",
        "\n",
        "#Cambio de unidad a las velocidades.\n",
        "Velc=velc*(1.0001044887813144157/3.086e16) #[kpc/s]\n",
        "\n",
        "#Radios.\n",
        "R = np.linspace(radio[1],radio[-1],num=len(radio))  #[kpc]\n",
        "\n",
        "#Grafica.\n",
        "plt.plot(R,Velc*(3.086e16/1.0001044887813144157), \".\",  markersize=1.5, color=\"purple\")\n",
        "#plt.title(\"NGC 4569\")\n",
        "plt.xlabel(\"R [kpc]\")\n",
        "plt.ylabel(\"$V_{rot}$ [km/s]\")\n",
        "#plt.savefig(\"NGC 4569.png\")\n",
        "plt.xlim(0,30)\n",
        "plt.ylim(0,400)"
      ]
    },
    {
      "cell_type": "markdown",
      "metadata": {
        "id": "RUASxrBLUYq7"
      },
      "source": [
        "### Asumiendo que la galaxia está dominada solo por el Halo:"
      ]
    },
    {
      "cell_type": "markdown",
      "metadata": {
        "id": "U3aiOOtkUYq_"
      },
      "source": [
        "Para este caso, se tiene en cuenta que el halo de materia oscura sigue un perfil de densidad de Hernquist. Por lo cual, la ecuación de la velocidad circular está dada por:\n",
        "\n",
        "$v_{c}^{2} = \\frac{2 \\pi GR \\rho_{0}a^{3}}{(a+R)^{2}}$\n",
        "\n",
        "Donde: $G$ es la constante de gravitación universal, $R$ es el radio, $\\rho_{0}$ es la densidad caracteritica del halo de materia oscura y $a$ es el factor de escala. "
      ]
    },
    {
      "cell_type": "markdown",
      "source": [
        "(Formulas Perfil de Hernquist)"
      ],
      "metadata": {
        "id": "_eb4K0otU8p8"
      }
    },
    {
      "cell_type": "markdown",
      "metadata": {
        "id": "WL4XbZ4nUYrB"
      },
      "source": [
        "$\\rho(r) = \\frac{M}{2\\pi}\\frac{a}{r(r+a)^{3}}$"
      ]
    },
    {
      "cell_type": "markdown",
      "metadata": {
        "id": "Ms7jxAfAUYrC"
      },
      "source": [
        "$\\phi(r) = -\\frac{GM}{r+a}$"
      ]
    },
    {
      "cell_type": "markdown",
      "metadata": {
        "id": "af_dUkWgUYrE"
      },
      "source": [
        "$M(r) = \\frac{Mr^{2}}{(r+a)^{2}}$"
      ]
    },
    {
      "cell_type": "markdown",
      "metadata": {
        "id": "RE2IxAm5UYrG"
      },
      "source": [
        "Para encontrar tanto la densidad del halo como el factor se hizo un ajuste de los datos dados por medio de curve_fit:"
      ]
    },
    {
      "cell_type": "code",
      "execution_count": null,
      "metadata": {
        "id": "j_00EDXyUYrJ"
      },
      "outputs": [],
      "source": [
        "#Definimos la velocidad circular al cuadrado.\n",
        "def Halo(r,rho_0,a):\n",
        "    vc2 = 2.0*np.pi*G*rho_0*a**3*r/((a+r)**2.0) \n",
        "    return vc2\n",
        "\n",
        "#Ajuste curve_fit\n",
        "#popt, pcov = curve_fit(Vc_halo, R, V)\n",
        "#Curve_fit devuelve dos resultados: El primero (popt) son los parámetros óptimos hallados. \n",
        "#El segundo (pcov) es la matriz de covarianza de los parámetros hallados.\n",
        "fitHalo, fitHalopcov = curve_fit(Halo, R, Velc**2)\n",
        "\n",
        "#Densidad.\n",
        "rho_Halo = fitHalo[0]\n",
        "\n",
        "#Factor de escala.\n",
        "a = fitHalo[1]"
      ]
    },
    {
      "cell_type": "code",
      "source": [
        "print(\"Densidad caracteristica del halo de materia oscura\",np.format_float_scientific(rho_Halo, precision = 2, exp_digits=2),\"M๏/kpc^3\")\n",
        "print(\"Factor de escala del halo de materia oscura\",a,\"kpc\")"
      ],
      "metadata": {
        "colab": {
          "base_uri": "https://localhost:8080/"
        },
        "id": "QJ-iU4jtpv5Q",
        "outputId": "4905c471-77bf-4c67-c006-8c66247835ba"
      },
      "execution_count": null,
      "outputs": [
        {
          "output_type": "stream",
          "name": "stdout",
          "text": [
            "Densidad caracteristica del halo de materia oscura 1.26e+08 M๏/kpc^3\n",
            "Factor de escala del halo de materia oscura 7.759410041041955 kpc\n"
          ]
        }
      ]
    },
    {
      "cell_type": "code",
      "execution_count": null,
      "metadata": {
        "id": "1l3zlsJzUYrM",
        "outputId": "6b5aa3cb-c039-4c86-9396-d68982f1ccf4",
        "colab": {
          "base_uri": "https://localhost:8080/",
          "height": 295
        }
      },
      "outputs": [
        {
          "output_type": "display_data",
          "data": {
            "text/plain": [
              "<Figure size 432x288 with 1 Axes>"
            ],
            "image/png": "[encoded data removed]"
          },
          "metadata": {
            "needs_background": "light"
          }
        }
      ],
      "source": [
        "#Grafica.\n",
        "plt.plot(R,Velc*(3.086e16/1.0001044887813144157), \".\", color=\"gray\", alpha=0.4, label=\"Datos\")\n",
        "plt.plot(R,np.sqrt(Halo(R,rho_Halo,a))*(3.086e16/1.0001044887813144157), color=\"green\", label=\"Ajuste\")\n",
        "plt.title(\"Curva de rotación del Halo de materia oscura\")\n",
        "plt.xlabel(\"R [kpc]\")\n",
        "plt.ylabel(\"$V_{rot}$ [km/s]\")\n",
        "plt.legend(loc = 4)\n",
        "plt.savefig(\"0000_halo.png\")"
      ]
    },
    {
      "cell_type": "code",
      "source": [
        "Velc*(3.086e16/1.0001044887813144157)"
      ],
      "metadata": {
        "id": "VZqdrcL7CMF1"
      },
      "execution_count": null,
      "outputs": []
    },
    {
      "cell_type": "code",
      "source": [
        "np.sqrt(Halo(R,rho_Halo,a))*(3.086e16/1.0001044887813144157)"
      ],
      "metadata": {
        "id": "1T-D057GAB-H"
      },
      "execution_count": null,
      "outputs": []
    },
    {
      "cell_type": "code",
      "source": [
        "max(R)"
      ],
      "metadata": {
        "colab": {
          "base_uri": "https://localhost:8080/"
        },
        "id": "DREAn3fMDcBv",
        "outputId": "99b3deee-d4f3-4b09-dcc6-f772654bb241"
      },
      "execution_count": null,
      "outputs": [
        {
          "output_type": "execute_result",
          "data": {
            "text/plain": [
              "23.3"
            ]
          },
          "metadata": {},
          "execution_count": 30
        }
      ]
    },
    {
      "cell_type": "markdown",
      "metadata": {
        "id": "XAehDmCCUYrO"
      },
      "source": [
        "### Asumiendo que la galaxia está dominada solo por el Disco:"
      ]
    },
    {
      "cell_type": "markdown",
      "metadata": {
        "id": "1pm2_a9VUYrP"
      },
      "source": [
        "Para este caso, se tiene en asume un disco exponencial. Por lo cual, la ecuación de la velocidad circular está dada por:\n",
        "\n",
        "$v_{c}^{2} = 4\\pi G \\Sigma_{0}R_{d}y^{2}[I_{0}(y)K_{0}(y)-I_{1}(y)K_{1}(y)]$\n",
        "\n",
        "Donde: G es la constante de gravitación universal, $\\Sigma_{0}$ es la densidad superficial del disco, $R_{d} = h$ es la longitud de escala del disco y $I_{0}$,$K_{0}$,$I_{1}$,$K_{1}$ son las funciones especiales de Bessel."
      ]
    },
    {
      "cell_type": "code",
      "execution_count": null,
      "metadata": {
        "id": "dINv1k4LUYrR"
      },
      "outputs": [],
      "source": [
        "#Definimos la velocidad circular al cuadrado.\n",
        "def Disk( r, Rd, Sigma0 ):\n",
        "    Vc2 = np.pi*G*Sigma0*r*(r/Rd)*(special.iv(0,r/(2.0*Rd))*special.kv(0,r/(2.0*Rd))-special.iv(1,r/(2.0*Rd))*special.kv(1,r/(2.0*Rd)))\n",
        "    return Vc2\n",
        "\n",
        "#Ajuste curve_fit.\n",
        "fitdisco, fitdiscopcov= curve_fit(Disk, R, Velc**2.)\n",
        "\n",
        "#Longitud de escala.\n",
        "Rd = fitdisco[0]\n",
        "\n",
        "#Densidad superficial.\n",
        "Sigma0_d = fitdisco[1]"
      ]
    },
    {
      "cell_type": "code",
      "source": [
        "print(\"Densidad superficial del Disco\",np.format_float_scientific(Sigma0_d, precision = 2, exp_digits=2),\"M๏/kpc^3\")\n",
        "print(\"Longitud de escala del Disco\",Rd,\"kpc\")"
      ],
      "metadata": {
        "colab": {
          "base_uri": "https://localhost:8080/"
        },
        "id": "PpNAlJUNrXYE",
        "outputId": "f2868a86-ea02-465b-b874-c0c0e1610805"
      },
      "execution_count": null,
      "outputs": [
        {
          "output_type": "stream",
          "name": "stdout",
          "text": [
            "Densidad superficial del Disco 1.12e+09 M๏/kpc^3\n",
            "Longitud de escala del Disco 4.598265854140442 kpc\n"
          ]
        }
      ]
    },
    {
      "cell_type": "code",
      "execution_count": null,
      "metadata": {
        "id": "WvYUWS4vUYrS",
        "outputId": "f43dce2e-98a6-4b29-f3b8-7530db752117",
        "colab": {
          "base_uri": "https://localhost:8080/",
          "height": 295
        }
      },
      "outputs": [
        {
          "output_type": "display_data",
          "data": {
            "text/plain": [
              "<Figure size 432x288 with 1 Axes>"
            ],
            "image/png": "[encoded data removed]"
          },
          "metadata": {
            "needs_background": "light"
          }
        }
      ],
      "source": [
        "#Grafica.\n",
        "plt.plot(R,Velc*(3.086e16/1.0001044887813144157),\".\", color=\"gray\", alpha=0.4, label=\"Datos\")\n",
        "plt.plot(R,np.sqrt(Disk(R,fitdisco[0],fitdisco[1]))*(3.086e16/1.0001044887813144157), color=\"purple\", label=\"Ajuste\")\n",
        "plt.title(\"Curva de rotación del Disco\")\n",
        "plt.xlabel(\"R [kpc]\")\n",
        "plt.ylabel(\"$V_{rot}$ [km/s]\")\n",
        "plt.legend(loc = 4)\n",
        "plt.savefig(\"0000_disco.png\")"
      ]
    },
    {
      "cell_type": "markdown",
      "metadata": {
        "id": "VeHOZHqMUYrU"
      },
      "source": [
        "### Curva de rotación para toda la galaxia."
      ]
    },
    {
      "cell_type": "code",
      "execution_count": null,
      "metadata": {
        "id": "6Q7-WhQ6UYrV"
      },
      "outputs": [],
      "source": [
        "#Definimos las velocidades circulares al cuadrado.\n",
        "def galaxy(r,rho_0,a,sigma0,Rd):\n",
        "    VcH2 = 2.0*np.pi*G*rho_0*(a**3)*r/((a+r)*(a+r))\n",
        "    VcD2 = np.pi*G*sigma0*r*(r/Rd)*(special.iv(0,r/(2.0*Rd))*special.kv(0,r/(2.0*Rd))-special.iv(1,r/(2.0*Rd))*special.kv(1,r/(2.0*Rd)))\n",
        "    #Velocidad de la galaxia = suma de las velocidades del halo y del discos.\n",
        "    VcGalaxy2 = VcH2+VcD2\n",
        "    return VcGalaxy2\n",
        "\n",
        "#Ajuste curve_fit.\n",
        "fitgalaxy, fitgalaxycov = curve_fit(galaxy, R, Velc**2)\n",
        "\n",
        "#Densidad caracteristica.\n",
        "rho_galaxy = fitgalaxy[0]\n",
        "\n",
        "#Factor de escala.\n",
        "a_galaxy = fitgalaxy[1]\n",
        "\n",
        "#Densidad superficial.\n",
        "sigma0_galaxy = fitgalaxy[2]\n",
        "\n",
        "#Longitud de escala.\n",
        "Rd_galaxy = fitgalaxy[3]\n",
        "\n",
        "#Definimos velocidades.\n",
        "#Galaxia.\n",
        "VcG = np.sqrt(galaxy(R,rho_galaxy,a_galaxy,sigma0_galaxy,Rd_galaxy))*(3.086e16/1.0001044887813144157)\n",
        "#Halo.\n",
        "VcH = np.sqrt(Halo(R,rho_galaxy,a_galaxy))*(3.086e16/1.0001044887813144157)\n",
        "#Disco.\n",
        "VcD = np.sqrt(Disk(R,Rd_galaxy,sigma0_galaxy))*(3.086e16/1.0001044887813144157)"
      ]
    },
    {
      "cell_type": "code",
      "source": [
        "print(\"Densidad caracteristica de toda la galaxia\",np.format_float_scientific(rho_galaxy, precision = 2, exp_digits=2),\"M๏/kpc^3\")\n",
        "print(\"Factor de escala de toda la galaxia\",a,\"kpc\")\n",
        "print(\"Longitud de escala de toda la galaxia\",Rd_galaxy,\"kpc\")\n",
        "print(\"Densidad superficial de toda la galaxia\",np.format_float_scientific(sigma0_galaxy, precision = 2, exp_digits=2),\"M๏/kpc^3\")"
      ],
      "metadata": {
        "id": "aL-my0p_rqyW",
        "colab": {
          "base_uri": "https://localhost:8080/"
        },
        "outputId": "85a1f041-31b8-4d30-8eba-ff8deb2504ba"
      },
      "execution_count": null,
      "outputs": [
        {
          "output_type": "stream",
          "name": "stdout",
          "text": [
            "Densidad caracteristica de toda la galaxia 3.11e+07 M๏/kpc^3\n",
            "Factor de escala de toda la galaxia 7.759410041041955 kpc\n",
            "Longitud de escala de toda la galaxia 0.18911623980123832 kpc\n",
            "Densidad superficial de toda la galaxia 3.28e+10 M๏/kpc^3\n"
          ]
        }
      ]
    },
    {
      "cell_type": "code",
      "execution_count": null,
      "metadata": {
        "id": "9ETw9MYUUYrW",
        "colab": {
          "base_uri": "https://localhost:8080/",
          "height": 295
        },
        "outputId": "3891ed4a-0c06-47a5-a54a-b9ca243e67d3"
      },
      "outputs": [
        {
          "output_type": "display_data",
          "data": {
            "text/plain": [
              "<Figure size 432x288 with 1 Axes>"
            ],
            "image/png": "[encoded data removed]"
          },
          "metadata": {
            "needs_background": "light"
          }
        }
      ],
      "source": [
        "#Grafica.\n",
        "plt.plot(radio,velc, \".\", color=\"gray\", alpha=0.4, label=\"Datos\")\n",
        "plt.plot(R, VcD, color=\"purple\",label=\"Disco\")\n",
        "plt.plot(R, VcH, color=\"green\", label=\"Halo de materia oscura\")\n",
        "plt.plot(R, VcG, color=\"black\", label=\"Galaxia\")\n",
        "plt.title(\"Curva de rotación galaxia tipo Sb\")\n",
        "plt.xlabel(\"R [kpc]\")\n",
        "plt.ylabel(\"$V_{rot}$ [km/s]\")\n",
        "\n",
        "#Líneas por zonas.\n",
        "plt.axvline(0.1, color=\"red\", label=\"Pico Máximo\")\n",
        "plt.axvline(0.3, color=\"red\")\n",
        "plt.axvline(2, color=\"blue\", label=\"Zona del Disco\")\n",
        "plt.axvline(7, color=\"blue\")\n",
        "plt.xlim(-0.5,13)\n",
        "plt.legend(loc = 4)\n",
        "plt.savefig(\"0000_analisis.png\")\n"
      ]
    },
    {
      "cell_type": "code",
      "source": [],
      "metadata": {
        "id": "7kGTZ3NWmvZb"
      },
      "execution_count": null,
      "outputs": []
    }
  ],
  "metadata": {
    "kernelspec": {
      "display_name": "Python 3",
      "language": "python",
      "name": "python3"
    },
    "language_info": {
      "codemirror_mode": {
        "name": "ipython",
        "version": 3
      },
      "file_extension": ".py",
      "mimetype": "text/x-python",
      "name": "python",
      "nbconvert_exporter": "python",
      "pygments_lexer": "ipython3",
      "version": "3.7.4"
    },
    "colab": {
      "provenance": []
    }
  },
  "nbformat": 4,
  "nbformat_minor": 0
}